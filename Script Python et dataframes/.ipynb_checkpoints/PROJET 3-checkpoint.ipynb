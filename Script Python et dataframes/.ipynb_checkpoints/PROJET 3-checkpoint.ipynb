{
 "cells": [
  {
   "cell_type": "markdown",
   "metadata": {},
   "source": [
    "<H1> PROJET 3 : Réalisez une étude de santé publique </H1>\n",
    "\n"
   ]
  },
  {
   "cell_type": "code",
   "execution_count": 1,
   "metadata": {},
   "outputs": [],
   "source": [
    "import pandas as pd\n",
    "import numpy as np\n",
    "import matplotlib.pyplot as plt"
   ]
  },
  {
   "cell_type": "markdown",
   "metadata": {},
   "source": [
    "<B> <span> 1ère question : CALCUL DE LA POPULATION MONDIALE  </span>  </B>"
   ]
  },
  {
   "cell_type": "code",
   "execution_count": 2,
   "metadata": {
    "scrolled": true
   },
   "outputs": [
    {
     "data": {
      "text/html": [
       "<div>\n",
       "<style scoped>\n",
       "    .dataframe tbody tr th:only-of-type {\n",
       "        vertical-align: middle;\n",
       "    }\n",
       "\n",
       "    .dataframe tbody tr th {\n",
       "        vertical-align: top;\n",
       "    }\n",
       "\n",
       "    .dataframe thead th {\n",
       "        text-align: right;\n",
       "    }\n",
       "</style>\n",
       "<table border=\"1\" class=\"dataframe\">\n",
       "  <thead>\n",
       "    <tr style=\"text-align: right;\">\n",
       "      <th></th>\n",
       "      <th>Code Domaine</th>\n",
       "      <th>Domaine</th>\n",
       "      <th>Code Pays</th>\n",
       "      <th>Pays</th>\n",
       "      <th>Code Élément</th>\n",
       "      <th>Élément</th>\n",
       "      <th>Code Produit</th>\n",
       "      <th>Produit</th>\n",
       "      <th>Code Année</th>\n",
       "      <th>Année</th>\n",
       "      <th>Unité</th>\n",
       "      <th>Valeur</th>\n",
       "      <th>Symbole</th>\n",
       "      <th>Description du Symbole</th>\n",
       "    </tr>\n",
       "  </thead>\n",
       "  <tbody>\n",
       "    <tr>\n",
       "      <th>0</th>\n",
       "      <td>FBS</td>\n",
       "      <td>Bilans Alimentaires</td>\n",
       "      <td>2</td>\n",
       "      <td>Afghanistan</td>\n",
       "      <td>511</td>\n",
       "      <td>Population totale</td>\n",
       "      <td>2501</td>\n",
       "      <td>Population</td>\n",
       "      <td>2013</td>\n",
       "      <td>2013</td>\n",
       "      <td>1000 personnes</td>\n",
       "      <td>30552</td>\n",
       "      <td>NaN</td>\n",
       "      <td>Donnée officielle</td>\n",
       "    </tr>\n",
       "    <tr>\n",
       "      <th>1</th>\n",
       "      <td>FBS</td>\n",
       "      <td>Bilans Alimentaires</td>\n",
       "      <td>202</td>\n",
       "      <td>Afrique du Sud</td>\n",
       "      <td>511</td>\n",
       "      <td>Population totale</td>\n",
       "      <td>2501</td>\n",
       "      <td>Population</td>\n",
       "      <td>2013</td>\n",
       "      <td>2013</td>\n",
       "      <td>1000 personnes</td>\n",
       "      <td>52776</td>\n",
       "      <td>NaN</td>\n",
       "      <td>Donnée officielle</td>\n",
       "    </tr>\n",
       "    <tr>\n",
       "      <th>2</th>\n",
       "      <td>FBS</td>\n",
       "      <td>Bilans Alimentaires</td>\n",
       "      <td>3</td>\n",
       "      <td>Albanie</td>\n",
       "      <td>511</td>\n",
       "      <td>Population totale</td>\n",
       "      <td>2501</td>\n",
       "      <td>Population</td>\n",
       "      <td>2013</td>\n",
       "      <td>2013</td>\n",
       "      <td>1000 personnes</td>\n",
       "      <td>3173</td>\n",
       "      <td>NaN</td>\n",
       "      <td>Donnée officielle</td>\n",
       "    </tr>\n",
       "    <tr>\n",
       "      <th>3</th>\n",
       "      <td>FBS</td>\n",
       "      <td>Bilans Alimentaires</td>\n",
       "      <td>4</td>\n",
       "      <td>Algérie</td>\n",
       "      <td>511</td>\n",
       "      <td>Population totale</td>\n",
       "      <td>2501</td>\n",
       "      <td>Population</td>\n",
       "      <td>2013</td>\n",
       "      <td>2013</td>\n",
       "      <td>1000 personnes</td>\n",
       "      <td>39208</td>\n",
       "      <td>NaN</td>\n",
       "      <td>Donnée officielle</td>\n",
       "    </tr>\n",
       "    <tr>\n",
       "      <th>4</th>\n",
       "      <td>FBS</td>\n",
       "      <td>Bilans Alimentaires</td>\n",
       "      <td>79</td>\n",
       "      <td>Allemagne</td>\n",
       "      <td>511</td>\n",
       "      <td>Population totale</td>\n",
       "      <td>2501</td>\n",
       "      <td>Population</td>\n",
       "      <td>2013</td>\n",
       "      <td>2013</td>\n",
       "      <td>1000 personnes</td>\n",
       "      <td>82727</td>\n",
       "      <td>NaN</td>\n",
       "      <td>Donnée officielle</td>\n",
       "    </tr>\n",
       "  </tbody>\n",
       "</table>\n",
       "</div>"
      ],
      "text/plain": [
       "  Code Domaine              Domaine  Code Pays            Pays  Code Élément  \\\n",
       "0          FBS  Bilans Alimentaires          2     Afghanistan           511   \n",
       "1          FBS  Bilans Alimentaires        202  Afrique du Sud           511   \n",
       "2          FBS  Bilans Alimentaires          3         Albanie           511   \n",
       "3          FBS  Bilans Alimentaires          4         Algérie           511   \n",
       "4          FBS  Bilans Alimentaires         79       Allemagne           511   \n",
       "\n",
       "             Élément  Code Produit     Produit  Code Année  Année  \\\n",
       "0  Population totale          2501  Population        2013   2013   \n",
       "1  Population totale          2501  Population        2013   2013   \n",
       "2  Population totale          2501  Population        2013   2013   \n",
       "3  Population totale          2501  Population        2013   2013   \n",
       "4  Population totale          2501  Population        2013   2013   \n",
       "\n",
       "            Unité  Valeur Symbole Description du Symbole  \n",
       "0  1000 personnes   30552     NaN      Donnée officielle  \n",
       "1  1000 personnes   52776     NaN      Donnée officielle  \n",
       "2  1000 personnes    3173     NaN      Donnée officielle  \n",
       "3  1000 personnes   39208     NaN      Donnée officielle  \n",
       "4  1000 personnes   82727     NaN      Donnée officielle  "
      ]
     },
     "execution_count": 2,
     "metadata": {},
     "output_type": "execute_result"
    }
   ],
   "source": [
    "df_population_brut = pd.read_csv(\"FAOSTAT_data_POPULATION.csv\")\n",
    "df_population_brut.head()"
   ]
  },
  {
   "cell_type": "code",
   "execution_count": 3,
   "metadata": {},
   "outputs": [
    {
     "name": "stdout",
     "output_type": "stream",
     "text": [
      "<class 'pandas.core.frame.DataFrame'>\n",
      "RangeIndex: 175 entries, 0 to 174\n",
      "Data columns (total 3 columns):\n",
      "pays      175 non-null object\n",
      "unite     175 non-null object\n",
      "valeur    175 non-null int64\n",
      "dtypes: int64(1), object(2)\n",
      "memory usage: 4.2+ KB\n"
     ]
    }
   ],
   "source": [
    "# Je ne garde que les colonnes qui m'intéressent\n",
    "df_population = df_population_brut[['Pays','Unité','Valeur']]\n",
    "df_population.columns = ['pays','unite','valeur']\n",
    "# D'abord une 1ère analyse de mon DataFrame\n",
    "df_population.info()"
   ]
  },
  {
   "cell_type": "markdown",
   "metadata": {},
   "source": [
    "Il y a donc 175 lignes, je choisis comme clé primaire le Code pays, et je vais supprimer les doublons pour vérifier qu'il y a toujours le même nombre de ligne après"
   ]
  },
  {
   "cell_type": "code",
   "execution_count": 4,
   "metadata": {
    "scrolled": true
   },
   "outputs": [
    {
     "data": {
      "text/html": [
       "<div>\n",
       "<style scoped>\n",
       "    .dataframe tbody tr th:only-of-type {\n",
       "        vertical-align: middle;\n",
       "    }\n",
       "\n",
       "    .dataframe tbody tr th {\n",
       "        vertical-align: top;\n",
       "    }\n",
       "\n",
       "    .dataframe thead th {\n",
       "        text-align: right;\n",
       "    }\n",
       "</style>\n",
       "<table border=\"1\" class=\"dataframe\">\n",
       "  <thead>\n",
       "    <tr style=\"text-align: right;\">\n",
       "      <th></th>\n",
       "      <th>pays</th>\n",
       "      <th>unite</th>\n",
       "      <th>valeur</th>\n",
       "    </tr>\n",
       "  </thead>\n",
       "  <tbody>\n",
       "    <tr>\n",
       "      <th>0</th>\n",
       "      <td>Afghanistan</td>\n",
       "      <td>1000 personnes</td>\n",
       "      <td>30552</td>\n",
       "    </tr>\n",
       "    <tr>\n",
       "      <th>1</th>\n",
       "      <td>Afrique du Sud</td>\n",
       "      <td>1000 personnes</td>\n",
       "      <td>52776</td>\n",
       "    </tr>\n",
       "    <tr>\n",
       "      <th>2</th>\n",
       "      <td>Albanie</td>\n",
       "      <td>1000 personnes</td>\n",
       "      <td>3173</td>\n",
       "    </tr>\n",
       "    <tr>\n",
       "      <th>3</th>\n",
       "      <td>Algérie</td>\n",
       "      <td>1000 personnes</td>\n",
       "      <td>39208</td>\n",
       "    </tr>\n",
       "    <tr>\n",
       "      <th>4</th>\n",
       "      <td>Allemagne</td>\n",
       "      <td>1000 personnes</td>\n",
       "      <td>82727</td>\n",
       "    </tr>\n",
       "  </tbody>\n",
       "</table>\n",
       "</div>"
      ],
      "text/plain": [
       "             pays           unite  valeur\n",
       "0     Afghanistan  1000 personnes   30552\n",
       "1  Afrique du Sud  1000 personnes   52776\n",
       "2         Albanie  1000 personnes    3173\n",
       "3         Algérie  1000 personnes   39208\n",
       "4       Allemagne  1000 personnes   82727"
      ]
     },
     "execution_count": 4,
     "metadata": {},
     "output_type": "execute_result"
    }
   ],
   "source": [
    "#je choisis comme clé primaires le pays et le vérifie en supprimant les doublons\n",
    "\n",
    "df_population.drop_duplicates('pays').head()"
   ]
  },
  {
   "cell_type": "code",
   "execution_count": 5,
   "metadata": {
    "scrolled": true
   },
   "outputs": [
    {
     "data": {
      "text/plain": [
       "True"
      ]
     },
     "execution_count": 5,
     "metadata": {},
     "output_type": "execute_result"
    }
   ],
   "source": [
    "#Je vérifie que le nombre de ligne est le même avant et après cette manipulation\n",
    "df_population.size == df_population.drop_duplicates('pays').size"
   ]
  },
  {
   "cell_type": "markdown",
   "metadata": {},
   "source": [
    "Il y a toujours 175 lignes donc je garde Code Pays comme clé primaire"
   ]
  },
  {
   "cell_type": "code",
   "execution_count": 6,
   "metadata": {
    "scrolled": true
   },
   "outputs": [
    {
     "name": "stdout",
     "output_type": "stream",
     "text": [
      "8.4 milliard de personnes\n"
     ]
    }
   ],
   "source": [
    "# Je calcule la population mondiale en faisant la somme des différents pays\n",
    "print(round(((df_population[\"valeur\"].sum())/1000000),1), \"milliard de personnes\")\n",
    "# je divise par 1 millions, car l'unité est de 1000 personnes, et je souhaite un résultats en milliards"
   ]
  },
  {
   "cell_type": "markdown",
   "metadata": {
    "scrolled": true
   },
   "source": [
    "En 2013, la population mondiale était d'à peu près 7 milliard, nous avons donc 1.4 milliard de trop\n"
   ]
  },
  {
   "cell_type": "code",
   "execution_count": 7,
   "metadata": {},
   "outputs": [
    {
     "data": {
      "text/html": [
       "<div>\n",
       "<style scoped>\n",
       "    .dataframe tbody tr th:only-of-type {\n",
       "        vertical-align: middle;\n",
       "    }\n",
       "\n",
       "    .dataframe tbody tr th {\n",
       "        vertical-align: top;\n",
       "    }\n",
       "\n",
       "    .dataframe thead th {\n",
       "        text-align: right;\n",
       "    }\n",
       "</style>\n",
       "<table border=\"1\" class=\"dataframe\">\n",
       "  <thead>\n",
       "    <tr style=\"text-align: right;\">\n",
       "      <th></th>\n",
       "      <th>pays</th>\n",
       "      <th>unite</th>\n",
       "      <th>valeur</th>\n",
       "    </tr>\n",
       "  </thead>\n",
       "  <tbody>\n",
       "    <tr>\n",
       "      <th>33</th>\n",
       "      <td>Chine - RAS de Hong-Kong</td>\n",
       "      <td>1000 personnes</td>\n",
       "      <td>7204</td>\n",
       "    </tr>\n",
       "    <tr>\n",
       "      <th>34</th>\n",
       "      <td>Chine - RAS de Macao</td>\n",
       "      <td>1000 personnes</td>\n",
       "      <td>566</td>\n",
       "    </tr>\n",
       "    <tr>\n",
       "      <th>35</th>\n",
       "      <td>Chine, continentale</td>\n",
       "      <td>1000 personnes</td>\n",
       "      <td>1385567</td>\n",
       "    </tr>\n",
       "    <tr>\n",
       "      <th>36</th>\n",
       "      <td>Chine, Taiwan Province de</td>\n",
       "      <td>1000 personnes</td>\n",
       "      <td>23330</td>\n",
       "    </tr>\n",
       "    <tr>\n",
       "      <th>174</th>\n",
       "      <td>Chine</td>\n",
       "      <td>1000 personnes</td>\n",
       "      <td>1416667</td>\n",
       "    </tr>\n",
       "  </tbody>\n",
       "</table>\n",
       "</div>"
      ],
      "text/plain": [
       "                          pays           unite   valeur\n",
       "33    Chine - RAS de Hong-Kong  1000 personnes     7204\n",
       "34        Chine - RAS de Macao  1000 personnes      566\n",
       "35         Chine, continentale  1000 personnes  1385567\n",
       "36   Chine, Taiwan Province de  1000 personnes    23330\n",
       "174                      Chine  1000 personnes  1416667"
      ]
     },
     "execution_count": 7,
     "metadata": {},
     "output_type": "execute_result"
    }
   ],
   "source": [
    "# Je recherche le pays qui présenterait une redondance\n",
    "\n",
    "df_population.loc[df_population['pays'].str.contains('Chine')]"
   ]
  },
  {
   "cell_type": "code",
   "execution_count": 8,
   "metadata": {
    "scrolled": true
   },
   "outputs": [
    {
     "data": {
      "text/plain": [
       "True"
      ]
     },
     "execution_count": 8,
     "metadata": {},
     "output_type": "execute_result"
    }
   ],
   "source": [
    "# Je vérifie si \"Chine\"(index 174) est bien une agrégation des 4 régions\n",
    "((df_population.iloc[[33,34,35,36], :])[\"valeur\"].sum()) ==((df_population.iloc[[174], :])[\"valeur\"].sum())"
   ]
  },
  {
   "cell_type": "code",
   "execution_count": 9,
   "metadata": {},
   "outputs": [
    {
     "name": "stdout",
     "output_type": "stream",
     "text": [
      "7.0 milliard de personnes\n"
     ]
    }
   ],
   "source": [
    "# Je décide donc de supprimer la ligne \"Chine\" pour garder les régions différenciées\n",
    "df_population = df_population[df_population['pays'] != 'Chine']\n",
    "# Je recalcule la population mondiale\n",
    "print(round(((df_population[\"valeur\"].sum())/1000000),1), \"milliard de personnes\")\n",
    "# je divise par 1 millions, car l'unité et de 1000 personnes, et je souhaite un résultats en milliards"
   ]
  },
  {
   "cell_type": "markdown",
   "metadata": {},
   "source": [
    "Nous sommes à 7 milliards d'humains, le chiffre est donc tout à fait probable."
   ]
  },
  {
   "cell_type": "markdown",
   "metadata": {},
   "source": [
    "<B> <span> 2ème question : IDENTIFIER LES REDONDANCES  </span>  </B>"
   ]
  },
  {
   "cell_type": "markdown",
   "metadata": {},
   "source": [
    "disponibilité intérieure = production + importations - exportations + évolution des stocks\n",
    "\n",
    "Mais je cherche aussi les emplois, je vais vérifier que l'on peut aussi dire : disponibilité intérieure = aliments pour animaux + semences + pertes + traitements + autres utilisations + nourriture"
   ]
  },
  {
   "cell_type": "code",
   "execution_count": 10,
   "metadata": {
    "scrolled": true
   },
   "outputs": [
    {
     "data": {
      "text/html": [
       "<div>\n",
       "<style scoped>\n",
       "    .dataframe tbody tr th:only-of-type {\n",
       "        vertical-align: middle;\n",
       "    }\n",
       "\n",
       "    .dataframe tbody tr th {\n",
       "        vertical-align: top;\n",
       "    }\n",
       "\n",
       "    .dataframe thead th {\n",
       "        text-align: right;\n",
       "    }\n",
       "</style>\n",
       "<table border=\"1\" class=\"dataframe\">\n",
       "  <thead>\n",
       "    <tr style=\"text-align: right;\">\n",
       "      <th></th>\n",
       "      <th>pays</th>\n",
       "      <th>code_element</th>\n",
       "      <th>element</th>\n",
       "      <th>produit</th>\n",
       "      <th>unite</th>\n",
       "      <th>valeur</th>\n",
       "      <th>groupe</th>\n",
       "    </tr>\n",
       "  </thead>\n",
       "  <tbody>\n",
       "    <tr>\n",
       "      <th>0</th>\n",
       "      <td>Afghanistan</td>\n",
       "      <td>5511</td>\n",
       "      <td>Production</td>\n",
       "      <td>Blé</td>\n",
       "      <td>Milliers de tonnes</td>\n",
       "      <td>5169.0</td>\n",
       "      <td>vegetaux</td>\n",
       "    </tr>\n",
       "    <tr>\n",
       "      <th>1</th>\n",
       "      <td>Afghanistan</td>\n",
       "      <td>5611</td>\n",
       "      <td>Importations - Quantité</td>\n",
       "      <td>Blé</td>\n",
       "      <td>Milliers de tonnes</td>\n",
       "      <td>1173.0</td>\n",
       "      <td>vegetaux</td>\n",
       "    </tr>\n",
       "    <tr>\n",
       "      <th>2</th>\n",
       "      <td>Afghanistan</td>\n",
       "      <td>5072</td>\n",
       "      <td>Variation de stock</td>\n",
       "      <td>Blé</td>\n",
       "      <td>Milliers de tonnes</td>\n",
       "      <td>-350.0</td>\n",
       "      <td>vegetaux</td>\n",
       "    </tr>\n",
       "    <tr>\n",
       "      <th>3</th>\n",
       "      <td>Afghanistan</td>\n",
       "      <td>5301</td>\n",
       "      <td>Disponibilité intérieure</td>\n",
       "      <td>Blé</td>\n",
       "      <td>Milliers de tonnes</td>\n",
       "      <td>5992.0</td>\n",
       "      <td>vegetaux</td>\n",
       "    </tr>\n",
       "    <tr>\n",
       "      <th>4</th>\n",
       "      <td>Afghanistan</td>\n",
       "      <td>5527</td>\n",
       "      <td>Semences</td>\n",
       "      <td>Blé</td>\n",
       "      <td>Milliers de tonnes</td>\n",
       "      <td>322.0</td>\n",
       "      <td>vegetaux</td>\n",
       "    </tr>\n",
       "  </tbody>\n",
       "</table>\n",
       "</div>"
      ],
      "text/plain": [
       "          pays  code_element                   element produit  \\\n",
       "0  Afghanistan          5511                Production     Blé   \n",
       "1  Afghanistan          5611   Importations - Quantité     Blé   \n",
       "2  Afghanistan          5072        Variation de stock     Blé   \n",
       "3  Afghanistan          5301  Disponibilité intérieure     Blé   \n",
       "4  Afghanistan          5527                  Semences     Blé   \n",
       "\n",
       "                unite  valeur    groupe  \n",
       "0  Milliers de tonnes  5169.0  vegetaux  \n",
       "1  Milliers de tonnes  1173.0  vegetaux  \n",
       "2  Milliers de tonnes  -350.0  vegetaux  \n",
       "3  Milliers de tonnes  5992.0  vegetaux  \n",
       "4  Milliers de tonnes   322.0  vegetaux  "
      ]
     },
     "execution_count": 10,
     "metadata": {},
     "output_type": "execute_result"
    }
   ],
   "source": [
    "# J'importe deux nouveaux DataFrame végétaux et animaux en retirant l'agrégation \"Chine\"\n",
    "\n",
    "df_bilan_vegetaux_brut = pd.read_csv(\"FAOSTAT_bilan_vegetaux.csv\")\n",
    "df_bilan_vegetaux_brut = df_bilan_vegetaux_brut[df_bilan_vegetaux_brut['Pays'] != 'Chine']\n",
    "\n",
    "df_bilan_animaux_brut = pd.read_csv(\"FAOSTAT_bilan_animaux.csv\")\n",
    "df_bilan_animaux_brut = df_bilan_animaux_brut[df_bilan_animaux_brut['Pays'] != 'Chine']\n",
    "\n",
    "# Je nettoie mes dataframe\n",
    "df_bilan_vegetaux = df_bilan_vegetaux_brut[['Pays','Code Élément','Élément','Produit','Unité','Valeur']]\n",
    "df_bilan_vegetaux.columns = ['pays','code_element','element','produit','unite','valeur']\n",
    "\n",
    "df_bilan_animaux = df_bilan_animaux_brut[['Pays','Code Élément','Élément','Produit','Unité','Valeur']]\n",
    "df_bilan_animaux.columns = ['pays','code_element','element','produit','unite','valeur']\n",
    "\n",
    "# Avant de concaténer ces deux DataFrame, je leur assigne une nouvelle qualité : végétaux ou animaux\n",
    "df_bilan_vegetaux=df_bilan_vegetaux.assign(groupe='vegetaux')\n",
    "df_bilan_animaux=df_bilan_animaux.assign(groupe='animaux')\n",
    "\n",
    "df_bilan_complet = pd.concat([df_bilan_vegetaux, df_bilan_animaux])\n",
    "df_bilan_complet.head()"
   ]
  },
  {
   "cell_type": "code",
   "execution_count": 11,
   "metadata": {},
   "outputs": [
    {
     "data": {
      "text/html": [
       "<div>\n",
       "<style scoped>\n",
       "    .dataframe tbody tr th:only-of-type {\n",
       "        vertical-align: middle;\n",
       "    }\n",
       "\n",
       "    .dataframe tbody tr th {\n",
       "        vertical-align: top;\n",
       "    }\n",
       "\n",
       "    .dataframe thead th {\n",
       "        text-align: right;\n",
       "    }\n",
       "</style>\n",
       "<table border=\"1\" class=\"dataframe\">\n",
       "  <thead>\n",
       "    <tr style=\"text-align: right;\">\n",
       "      <th></th>\n",
       "      <th>pays</th>\n",
       "      <th>code_element</th>\n",
       "      <th>element</th>\n",
       "      <th>produit</th>\n",
       "      <th>unite</th>\n",
       "      <th>valeur</th>\n",
       "      <th>groupe</th>\n",
       "    </tr>\n",
       "  </thead>\n",
       "  <tbody>\n",
       "    <tr>\n",
       "      <th>36006</th>\n",
       "      <td>France</td>\n",
       "      <td>5511</td>\n",
       "      <td>Production</td>\n",
       "      <td>Blé</td>\n",
       "      <td>Milliers de tonnes</td>\n",
       "      <td>38614.00</td>\n",
       "      <td>vegetaux</td>\n",
       "    </tr>\n",
       "    <tr>\n",
       "      <th>36007</th>\n",
       "      <td>France</td>\n",
       "      <td>5611</td>\n",
       "      <td>Importations - Quantité</td>\n",
       "      <td>Blé</td>\n",
       "      <td>Milliers de tonnes</td>\n",
       "      <td>2055.00</td>\n",
       "      <td>vegetaux</td>\n",
       "    </tr>\n",
       "    <tr>\n",
       "      <th>36008</th>\n",
       "      <td>France</td>\n",
       "      <td>5072</td>\n",
       "      <td>Variation de stock</td>\n",
       "      <td>Blé</td>\n",
       "      <td>Milliers de tonnes</td>\n",
       "      <td>1131.00</td>\n",
       "      <td>vegetaux</td>\n",
       "    </tr>\n",
       "    <tr>\n",
       "      <th>36009</th>\n",
       "      <td>France</td>\n",
       "      <td>5911</td>\n",
       "      <td>Exportations - Quantité</td>\n",
       "      <td>Blé</td>\n",
       "      <td>Milliers de tonnes</td>\n",
       "      <td>21502.00</td>\n",
       "      <td>vegetaux</td>\n",
       "    </tr>\n",
       "    <tr>\n",
       "      <th>36010</th>\n",
       "      <td>France</td>\n",
       "      <td>5301</td>\n",
       "      <td>Disponibilité intérieure</td>\n",
       "      <td>Blé</td>\n",
       "      <td>Milliers de tonnes</td>\n",
       "      <td>20298.00</td>\n",
       "      <td>vegetaux</td>\n",
       "    </tr>\n",
       "    <tr>\n",
       "      <th>36011</th>\n",
       "      <td>France</td>\n",
       "      <td>5521</td>\n",
       "      <td>Aliments pour animaux</td>\n",
       "      <td>Blé</td>\n",
       "      <td>Milliers de tonnes</td>\n",
       "      <td>7822.00</td>\n",
       "      <td>vegetaux</td>\n",
       "    </tr>\n",
       "    <tr>\n",
       "      <th>36012</th>\n",
       "      <td>France</td>\n",
       "      <td>5527</td>\n",
       "      <td>Semences</td>\n",
       "      <td>Blé</td>\n",
       "      <td>Milliers de tonnes</td>\n",
       "      <td>748.00</td>\n",
       "      <td>vegetaux</td>\n",
       "    </tr>\n",
       "    <tr>\n",
       "      <th>36013</th>\n",
       "      <td>France</td>\n",
       "      <td>5123</td>\n",
       "      <td>Pertes</td>\n",
       "      <td>Blé</td>\n",
       "      <td>Milliers de tonnes</td>\n",
       "      <td>358.00</td>\n",
       "      <td>vegetaux</td>\n",
       "    </tr>\n",
       "    <tr>\n",
       "      <th>36014</th>\n",
       "      <td>France</td>\n",
       "      <td>5131</td>\n",
       "      <td>Traitement</td>\n",
       "      <td>Blé</td>\n",
       "      <td>Milliers de tonnes</td>\n",
       "      <td>1575.00</td>\n",
       "      <td>vegetaux</td>\n",
       "    </tr>\n",
       "    <tr>\n",
       "      <th>36015</th>\n",
       "      <td>France</td>\n",
       "      <td>5154</td>\n",
       "      <td>Autres Utilisations</td>\n",
       "      <td>Blé</td>\n",
       "      <td>Milliers de tonnes</td>\n",
       "      <td>2824.00</td>\n",
       "      <td>vegetaux</td>\n",
       "    </tr>\n",
       "    <tr>\n",
       "      <th>36016</th>\n",
       "      <td>France</td>\n",
       "      <td>5142</td>\n",
       "      <td>Nourriture</td>\n",
       "      <td>Blé</td>\n",
       "      <td>Milliers de tonnes</td>\n",
       "      <td>6971.00</td>\n",
       "      <td>vegetaux</td>\n",
       "    </tr>\n",
       "    <tr>\n",
       "      <th>36017</th>\n",
       "      <td>France</td>\n",
       "      <td>645</td>\n",
       "      <td>Disponibilité alimentaire en quantité (kg/pers...</td>\n",
       "      <td>Blé</td>\n",
       "      <td>kg</td>\n",
       "      <td>108.43</td>\n",
       "      <td>vegetaux</td>\n",
       "    </tr>\n",
       "    <tr>\n",
       "      <th>36018</th>\n",
       "      <td>France</td>\n",
       "      <td>664</td>\n",
       "      <td>Disponibilité alimentaire (Kcal/personne/jour)</td>\n",
       "      <td>Blé</td>\n",
       "      <td>Kcal/personne/jour</td>\n",
       "      <td>811.00</td>\n",
       "      <td>vegetaux</td>\n",
       "    </tr>\n",
       "    <tr>\n",
       "      <th>36019</th>\n",
       "      <td>France</td>\n",
       "      <td>674</td>\n",
       "      <td>Disponibilité de protéines en quantité (g/pers...</td>\n",
       "      <td>Blé</td>\n",
       "      <td>g/personne/jour</td>\n",
       "      <td>25.99</td>\n",
       "      <td>vegetaux</td>\n",
       "    </tr>\n",
       "    <tr>\n",
       "      <th>36020</th>\n",
       "      <td>France</td>\n",
       "      <td>684</td>\n",
       "      <td>Disponibilité de matière grasse en quantité (g...</td>\n",
       "      <td>Blé</td>\n",
       "      <td>g/personne/jour</td>\n",
       "      <td>4.20</td>\n",
       "      <td>vegetaux</td>\n",
       "    </tr>\n",
       "  </tbody>\n",
       "</table>\n",
       "</div>"
      ],
      "text/plain": [
       "         pays  code_element  \\\n",
       "36006  France          5511   \n",
       "36007  France          5611   \n",
       "36008  France          5072   \n",
       "36009  France          5911   \n",
       "36010  France          5301   \n",
       "36011  France          5521   \n",
       "36012  France          5527   \n",
       "36013  France          5123   \n",
       "36014  France          5131   \n",
       "36015  France          5154   \n",
       "36016  France          5142   \n",
       "36017  France           645   \n",
       "36018  France           664   \n",
       "36019  France           674   \n",
       "36020  France           684   \n",
       "\n",
       "                                                 element produit  \\\n",
       "36006                                         Production     Blé   \n",
       "36007                            Importations - Quantité     Blé   \n",
       "36008                                 Variation de stock     Blé   \n",
       "36009                            Exportations - Quantité     Blé   \n",
       "36010                           Disponibilité intérieure     Blé   \n",
       "36011                              Aliments pour animaux     Blé   \n",
       "36012                                           Semences     Blé   \n",
       "36013                                             Pertes     Blé   \n",
       "36014                                         Traitement     Blé   \n",
       "36015                                Autres Utilisations     Blé   \n",
       "36016                                         Nourriture     Blé   \n",
       "36017  Disponibilité alimentaire en quantité (kg/pers...     Blé   \n",
       "36018     Disponibilité alimentaire (Kcal/personne/jour)     Blé   \n",
       "36019  Disponibilité de protéines en quantité (g/pers...     Blé   \n",
       "36020  Disponibilité de matière grasse en quantité (g...     Blé   \n",
       "\n",
       "                    unite    valeur    groupe  \n",
       "36006  Milliers de tonnes  38614.00  vegetaux  \n",
       "36007  Milliers de tonnes   2055.00  vegetaux  \n",
       "36008  Milliers de tonnes   1131.00  vegetaux  \n",
       "36009  Milliers de tonnes  21502.00  vegetaux  \n",
       "36010  Milliers de tonnes  20298.00  vegetaux  \n",
       "36011  Milliers de tonnes   7822.00  vegetaux  \n",
       "36012  Milliers de tonnes    748.00  vegetaux  \n",
       "36013  Milliers de tonnes    358.00  vegetaux  \n",
       "36014  Milliers de tonnes   1575.00  vegetaux  \n",
       "36015  Milliers de tonnes   2824.00  vegetaux  \n",
       "36016  Milliers de tonnes   6971.00  vegetaux  \n",
       "36017                  kg    108.43  vegetaux  \n",
       "36018  Kcal/personne/jour    811.00  vegetaux  \n",
       "36019     g/personne/jour     25.99  vegetaux  \n",
       "36020     g/personne/jour      4.20  vegetaux  "
      ]
     },
     "execution_count": 11,
     "metadata": {},
     "output_type": "execute_result"
    }
   ],
   "source": [
    "# Je vérifie la formule \"disponibilité intérieure = Production + importations - exportations + évolution des stocks\"\n",
    "# avec la France et le blé\n",
    "\n",
    "df_bilan_complet.loc[(df_bilan_complet['pays'].str.contains('France')) & (df_bilan_complet['produit'].str.contains('Blé'))]"
   ]
  },
  {
   "cell_type": "code",
   "execution_count": 12,
   "metadata": {
    "scrolled": true
   },
   "outputs": [
    {
     "data": {
      "text/plain": [
       "36009    True\n",
       "Name: valeur, dtype: bool"
      ]
     },
     "execution_count": 12,
     "metadata": {},
     "output_type": "execute_result"
    }
   ],
   "source": [
    "#Disponibilité intérieure = Production + importations + évolution des stocks - exportations \n",
    "\n",
    "(df_bilan_complet.iloc[[36010], :][\"valeur\"].sum()) == ((df_bilan_complet.iloc[[36006,36007,36008], :])[\"valeur\"].sum())-((df_bilan_complet.iloc[[36009], :])[\"valeur\"])\n"
   ]
  },
  {
   "cell_type": "markdown",
   "metadata": {},
   "source": [
    "La formule est donc bien confirmée pour \"disponibilité intérieure = Production + importations - exportations + évolution des stocks\"\n",
    "\n",
    "Maintenant essayons \"disponibilité intérieure = aliments pour animaux + semences + pertes + traitements + autres utilisations + nourriture\""
   ]
  },
  {
   "cell_type": "code",
   "execution_count": 13,
   "metadata": {},
   "outputs": [
    {
     "data": {
      "text/plain": [
       "True"
      ]
     },
     "execution_count": 13,
     "metadata": {},
     "output_type": "execute_result"
    }
   ],
   "source": [
    "(df_bilan_complet.iloc[[36010], :][\"valeur\"].sum()) == ((df_bilan_complet.iloc[[36011,36012,36013,36014,36015,36016], :])[\"valeur\"].sum())"
   ]
  },
  {
   "cell_type": "markdown",
   "metadata": {},
   "source": [
    "<B> Calculez (pour chaque pays et chaque produit) la disponibilité alimentaire en kcal </B>"
   ]
  },
  {
   "cell_type": "code",
   "execution_count": 14,
   "metadata": {},
   "outputs": [
    {
     "data": {
      "text/html": [
       "<div>\n",
       "<style scoped>\n",
       "    .dataframe tbody tr th:only-of-type {\n",
       "        vertical-align: middle;\n",
       "    }\n",
       "\n",
       "    .dataframe tbody tr th {\n",
       "        vertical-align: top;\n",
       "    }\n",
       "\n",
       "    .dataframe thead th {\n",
       "        text-align: right;\n",
       "    }\n",
       "</style>\n",
       "<table border=\"1\" class=\"dataframe\">\n",
       "  <thead>\n",
       "    <tr style=\"text-align: right;\">\n",
       "      <th></th>\n",
       "      <th>pays</th>\n",
       "      <th>produit</th>\n",
       "      <th>kcal/pers/jour</th>\n",
       "      <th>groupe</th>\n",
       "    </tr>\n",
       "  </thead>\n",
       "  <tbody>\n",
       "    <tr>\n",
       "      <th>8</th>\n",
       "      <td>Afghanistan</td>\n",
       "      <td>Blé</td>\n",
       "      <td>1369.0</td>\n",
       "      <td>vegetaux</td>\n",
       "    </tr>\n",
       "    <tr>\n",
       "      <th>18</th>\n",
       "      <td>Afghanistan</td>\n",
       "      <td>Riz (Eq Blanchi)</td>\n",
       "      <td>141.0</td>\n",
       "      <td>vegetaux</td>\n",
       "    </tr>\n",
       "    <tr>\n",
       "      <th>30</th>\n",
       "      <td>Afghanistan</td>\n",
       "      <td>Orge</td>\n",
       "      <td>26.0</td>\n",
       "      <td>vegetaux</td>\n",
       "    </tr>\n",
       "    <tr>\n",
       "      <th>42</th>\n",
       "      <td>Afghanistan</td>\n",
       "      <td>Maïs</td>\n",
       "      <td>21.0</td>\n",
       "      <td>vegetaux</td>\n",
       "    </tr>\n",
       "    <tr>\n",
       "      <th>51</th>\n",
       "      <td>Afghanistan</td>\n",
       "      <td>Millet</td>\n",
       "      <td>3.0</td>\n",
       "      <td>vegetaux</td>\n",
       "    </tr>\n",
       "  </tbody>\n",
       "</table>\n",
       "</div>"
      ],
      "text/plain": [
       "           pays           produit  kcal/pers/jour    groupe\n",
       "8   Afghanistan               Blé          1369.0  vegetaux\n",
       "18  Afghanistan  Riz (Eq Blanchi)           141.0  vegetaux\n",
       "30  Afghanistan              Orge            26.0  vegetaux\n",
       "42  Afghanistan              Maïs            21.0  vegetaux\n",
       "51  Afghanistan            Millet             3.0  vegetaux"
      ]
     },
     "execution_count": 14,
     "metadata": {},
     "output_type": "execute_result"
    }
   ],
   "source": [
    "# je veux créer un DataFrame ne contenant que la disponibilité alimentaire (Kcal/personne/jour) pour chaque produit\n",
    "\n",
    "df_dispo_alim_kcal = df_bilan_complet[ df_bilan_complet['code_element'] == 664 ]\n",
    "df_dispo_alim_kcal = df_dispo_alim_kcal[['pays','produit','valeur','groupe']]\n",
    "df_dispo_alim_kcal.columns = ['pays','produit','kcal/pers/jour','groupe']\n",
    "df_dispo_alim_kcal.head()"
   ]
  },
  {
   "cell_type": "code",
   "execution_count": 15,
   "metadata": {
    "scrolled": true
   },
   "outputs": [
    {
     "data": {
      "text/html": [
       "<div>\n",
       "<style scoped>\n",
       "    .dataframe tbody tr th:only-of-type {\n",
       "        vertical-align: middle;\n",
       "    }\n",
       "\n",
       "    .dataframe tbody tr th {\n",
       "        vertical-align: top;\n",
       "    }\n",
       "\n",
       "    .dataframe thead th {\n",
       "        text-align: right;\n",
       "    }\n",
       "</style>\n",
       "<table border=\"1\" class=\"dataframe\">\n",
       "  <thead>\n",
       "    <tr style=\"text-align: right;\">\n",
       "      <th></th>\n",
       "      <th>pays</th>\n",
       "      <th>produit</th>\n",
       "      <th>kcal/pers/jour</th>\n",
       "      <th>groupe</th>\n",
       "      <th>milliers de pers</th>\n",
       "    </tr>\n",
       "  </thead>\n",
       "  <tbody>\n",
       "    <tr>\n",
       "      <th>0</th>\n",
       "      <td>Afghanistan</td>\n",
       "      <td>Blé</td>\n",
       "      <td>1369.0</td>\n",
       "      <td>vegetaux</td>\n",
       "      <td>30552</td>\n",
       "    </tr>\n",
       "    <tr>\n",
       "      <th>1</th>\n",
       "      <td>Afghanistan</td>\n",
       "      <td>Riz (Eq Blanchi)</td>\n",
       "      <td>141.0</td>\n",
       "      <td>vegetaux</td>\n",
       "      <td>30552</td>\n",
       "    </tr>\n",
       "    <tr>\n",
       "      <th>2</th>\n",
       "      <td>Afghanistan</td>\n",
       "      <td>Orge</td>\n",
       "      <td>26.0</td>\n",
       "      <td>vegetaux</td>\n",
       "      <td>30552</td>\n",
       "    </tr>\n",
       "    <tr>\n",
       "      <th>3</th>\n",
       "      <td>Afghanistan</td>\n",
       "      <td>Maïs</td>\n",
       "      <td>21.0</td>\n",
       "      <td>vegetaux</td>\n",
       "      <td>30552</td>\n",
       "    </tr>\n",
       "    <tr>\n",
       "      <th>4</th>\n",
       "      <td>Afghanistan</td>\n",
       "      <td>Millet</td>\n",
       "      <td>3.0</td>\n",
       "      <td>vegetaux</td>\n",
       "      <td>30552</td>\n",
       "    </tr>\n",
       "  </tbody>\n",
       "</table>\n",
       "</div>"
      ],
      "text/plain": [
       "          pays           produit  kcal/pers/jour    groupe  milliers de pers\n",
       "0  Afghanistan               Blé          1369.0  vegetaux             30552\n",
       "1  Afghanistan  Riz (Eq Blanchi)           141.0  vegetaux             30552\n",
       "2  Afghanistan              Orge            26.0  vegetaux             30552\n",
       "3  Afghanistan              Maïs            21.0  vegetaux             30552\n",
       "4  Afghanistan            Millet             3.0  vegetaux             30552"
      ]
     },
     "execution_count": 15,
     "metadata": {},
     "output_type": "execute_result"
    }
   ],
   "source": [
    "# Et je crée un DataFrame df_dispo_alim_pop contenant la disponibilité alimentaire + la population pour chaque pays\n",
    "df_dispo_alim_pop = pd.merge(df_dispo_alim_kcal, df_population)\n",
    "\n",
    "df_dispo_alim_pop = df_dispo_alim_pop [['pays','produit', 'kcal/pers/jour', 'groupe','valeur']]\n",
    "df_dispo_alim_pop.columns = ['pays','produit','kcal/pers/jour','groupe','milliers de pers']\n",
    "df_dispo_alim_pop.head()"
   ]
  },
  {
   "cell_type": "code",
   "execution_count": 16,
   "metadata": {},
   "outputs": [
    {
     "data": {
      "text/html": [
       "<div>\n",
       "<style scoped>\n",
       "    .dataframe tbody tr th:only-of-type {\n",
       "        vertical-align: middle;\n",
       "    }\n",
       "\n",
       "    .dataframe tbody tr th {\n",
       "        vertical-align: top;\n",
       "    }\n",
       "\n",
       "    .dataframe thead th {\n",
       "        text-align: right;\n",
       "    }\n",
       "</style>\n",
       "<table border=\"1\" class=\"dataframe\">\n",
       "  <thead>\n",
       "    <tr style=\"text-align: right;\">\n",
       "      <th></th>\n",
       "      <th>pays</th>\n",
       "      <th>produit</th>\n",
       "      <th>kcal/pers/jour</th>\n",
       "      <th>groupe</th>\n",
       "      <th>milliers de pers</th>\n",
       "      <th>dispo kcal/Jour</th>\n",
       "    </tr>\n",
       "  </thead>\n",
       "  <tbody>\n",
       "    <tr>\n",
       "      <th>0</th>\n",
       "      <td>Afghanistan</td>\n",
       "      <td>Blé</td>\n",
       "      <td>1369.0</td>\n",
       "      <td>vegetaux</td>\n",
       "      <td>30552</td>\n",
       "      <td>4.182569e+10</td>\n",
       "    </tr>\n",
       "    <tr>\n",
       "      <th>1</th>\n",
       "      <td>Afghanistan</td>\n",
       "      <td>Riz (Eq Blanchi)</td>\n",
       "      <td>141.0</td>\n",
       "      <td>vegetaux</td>\n",
       "      <td>30552</td>\n",
       "      <td>4.307832e+09</td>\n",
       "    </tr>\n",
       "    <tr>\n",
       "      <th>2</th>\n",
       "      <td>Afghanistan</td>\n",
       "      <td>Orge</td>\n",
       "      <td>26.0</td>\n",
       "      <td>vegetaux</td>\n",
       "      <td>30552</td>\n",
       "      <td>7.943520e+08</td>\n",
       "    </tr>\n",
       "    <tr>\n",
       "      <th>3</th>\n",
       "      <td>Afghanistan</td>\n",
       "      <td>Maïs</td>\n",
       "      <td>21.0</td>\n",
       "      <td>vegetaux</td>\n",
       "      <td>30552</td>\n",
       "      <td>6.415920e+08</td>\n",
       "    </tr>\n",
       "    <tr>\n",
       "      <th>4</th>\n",
       "      <td>Afghanistan</td>\n",
       "      <td>Millet</td>\n",
       "      <td>3.0</td>\n",
       "      <td>vegetaux</td>\n",
       "      <td>30552</td>\n",
       "      <td>9.165600e+07</td>\n",
       "    </tr>\n",
       "  </tbody>\n",
       "</table>\n",
       "</div>"
      ],
      "text/plain": [
       "          pays           produit  kcal/pers/jour    groupe  milliers de pers  \\\n",
       "0  Afghanistan               Blé          1369.0  vegetaux             30552   \n",
       "1  Afghanistan  Riz (Eq Blanchi)           141.0  vegetaux             30552   \n",
       "2  Afghanistan              Orge            26.0  vegetaux             30552   \n",
       "3  Afghanistan              Maïs            21.0  vegetaux             30552   \n",
       "4  Afghanistan            Millet             3.0  vegetaux             30552   \n",
       "\n",
       "   dispo kcal/Jour  \n",
       "0     4.182569e+10  \n",
       "1     4.307832e+09  \n",
       "2     7.943520e+08  \n",
       "3     6.415920e+08  \n",
       "4     9.165600e+07  "
      ]
     },
     "execution_count": 16,
     "metadata": {},
     "output_type": "execute_result"
    }
   ],
   "source": [
    "# Je crée une nouvelle colonne nommée \"Dispo Kcal/Jour\" qui est la multiplication de la disponibilité alimentaire \n",
    "# et de la population\n",
    "\n",
    "df_dispo_alim_pop['dispo kcal/Jour'] = (df_dispo_alim_pop['kcal/pers/jour'] * df_dispo_alim_pop['milliers de pers'] * 1000)\n",
    "\n",
    "# Je supprime les ligne où le resultats est égal à 0\n",
    "df_dispo_alim_pop = df_dispo_alim_pop[df_dispo_alim_pop['kcal/pers/jour'] != 0]\n",
    "\n",
    "df_dispo_alim_pop.head()"
   ]
  },
  {
   "cell_type": "markdown",
   "metadata": {},
   "source": [
    "<B> Calculez pour chaque produit le ratio \"énergie/poids\", que vous donnerez en kcal/kg </B>"
   ]
  },
  {
   "cell_type": "code",
   "execution_count": 17,
   "metadata": {
    "scrolled": true
   },
   "outputs": [
    {
     "data": {
      "text/html": [
       "<div>\n",
       "<style scoped>\n",
       "    .dataframe tbody tr th:only-of-type {\n",
       "        vertical-align: middle;\n",
       "    }\n",
       "\n",
       "    .dataframe tbody tr th {\n",
       "        vertical-align: top;\n",
       "    }\n",
       "\n",
       "    .dataframe thead th {\n",
       "        text-align: right;\n",
       "    }\n",
       "</style>\n",
       "<table border=\"1\" class=\"dataframe\">\n",
       "  <thead>\n",
       "    <tr style=\"text-align: right;\">\n",
       "      <th></th>\n",
       "      <th>pays</th>\n",
       "      <th>produit</th>\n",
       "      <th>dispo kg/pers/an</th>\n",
       "      <th>groupe</th>\n",
       "    </tr>\n",
       "  </thead>\n",
       "  <tbody>\n",
       "    <tr>\n",
       "      <th>7</th>\n",
       "      <td>Afghanistan</td>\n",
       "      <td>Blé</td>\n",
       "      <td>160.23</td>\n",
       "      <td>vegetaux</td>\n",
       "    </tr>\n",
       "    <tr>\n",
       "      <th>17</th>\n",
       "      <td>Afghanistan</td>\n",
       "      <td>Riz (Eq Blanchi)</td>\n",
       "      <td>13.82</td>\n",
       "      <td>vegetaux</td>\n",
       "    </tr>\n",
       "    <tr>\n",
       "      <th>29</th>\n",
       "      <td>Afghanistan</td>\n",
       "      <td>Orge</td>\n",
       "      <td>2.92</td>\n",
       "      <td>vegetaux</td>\n",
       "    </tr>\n",
       "    <tr>\n",
       "      <th>41</th>\n",
       "      <td>Afghanistan</td>\n",
       "      <td>Maïs</td>\n",
       "      <td>2.50</td>\n",
       "      <td>vegetaux</td>\n",
       "    </tr>\n",
       "    <tr>\n",
       "      <th>50</th>\n",
       "      <td>Afghanistan</td>\n",
       "      <td>Millet</td>\n",
       "      <td>0.40</td>\n",
       "      <td>vegetaux</td>\n",
       "    </tr>\n",
       "  </tbody>\n",
       "</table>\n",
       "</div>"
      ],
      "text/plain": [
       "           pays           produit  dispo kg/pers/an    groupe\n",
       "7   Afghanistan               Blé            160.23  vegetaux\n",
       "17  Afghanistan  Riz (Eq Blanchi)             13.82  vegetaux\n",
       "29  Afghanistan              Orge              2.92  vegetaux\n",
       "41  Afghanistan              Maïs              2.50  vegetaux\n",
       "50  Afghanistan            Millet              0.40  vegetaux"
      ]
     },
     "execution_count": 17,
     "metadata": {},
     "output_type": "execute_result"
    }
   ],
   "source": [
    "# Il me faut donc le df_dispo_alim_kcal créé plus haut que je vais joindre à un DataFrame ne contenant que la \n",
    "# dispo alimentaire en quantité et créer une nouvelle colonne avec le ratio energie/poids\n",
    "\n",
    "df_dispo_alim_kg = df_bilan_complet[ df_bilan_complet['code_element'] == 645 ]\n",
    "df_dispo_alim_kg = df_dispo_alim_kg[['pays','produit','valeur','groupe']]\n",
    "df_dispo_alim_kg.columns = ['pays','produit','dispo kg/pers/an','groupe']\n",
    "\n",
    "df_dispo_alim_kg.head()"
   ]
  },
  {
   "cell_type": "code",
   "execution_count": 18,
   "metadata": {
    "scrolled": true
   },
   "outputs": [
    {
     "data": {
      "text/html": [
       "<div>\n",
       "<style scoped>\n",
       "    .dataframe tbody tr th:only-of-type {\n",
       "        vertical-align: middle;\n",
       "    }\n",
       "\n",
       "    .dataframe tbody tr th {\n",
       "        vertical-align: top;\n",
       "    }\n",
       "\n",
       "    .dataframe thead th {\n",
       "        text-align: right;\n",
       "    }\n",
       "</style>\n",
       "<table border=\"1\" class=\"dataframe\">\n",
       "  <thead>\n",
       "    <tr style=\"text-align: right;\">\n",
       "      <th></th>\n",
       "      <th>pays</th>\n",
       "      <th>produit</th>\n",
       "      <th>groupe</th>\n",
       "      <th>ratio kcal/kg</th>\n",
       "    </tr>\n",
       "  </thead>\n",
       "  <tbody>\n",
       "    <tr>\n",
       "      <th>8471</th>\n",
       "      <td>Saint-Kitts-et-Nevis</td>\n",
       "      <td>Huile de Coco</td>\n",
       "      <td>vegetaux</td>\n",
       "      <td>8832.361516</td>\n",
       "    </tr>\n",
       "    <tr>\n",
       "      <th>1888</th>\n",
       "      <td>Canada</td>\n",
       "      <td>Huile Graines de Coton</td>\n",
       "      <td>vegetaux</td>\n",
       "      <td>7064.516129</td>\n",
       "    </tr>\n",
       "    <tr>\n",
       "      <th>2691</th>\n",
       "      <td>Danemark</td>\n",
       "      <td>Olives</td>\n",
       "      <td>vegetaux</td>\n",
       "      <td>1303.571429</td>\n",
       "    </tr>\n",
       "    <tr>\n",
       "      <th>1214</th>\n",
       "      <td>Bermudes</td>\n",
       "      <td>Huil Plantes Oleif Autr</td>\n",
       "      <td>vegetaux</td>\n",
       "      <td>8690.476190</td>\n",
       "    </tr>\n",
       "    <tr>\n",
       "      <th>5384</th>\n",
       "      <td>Lettonie</td>\n",
       "      <td>Maïs</td>\n",
       "      <td>vegetaux</td>\n",
       "      <td>3041.666667</td>\n",
       "    </tr>\n",
       "  </tbody>\n",
       "</table>\n",
       "</div>"
      ],
      "text/plain": [
       "                      pays                  produit    groupe  ratio kcal/kg\n",
       "8471  Saint-Kitts-et-Nevis            Huile de Coco  vegetaux    8832.361516\n",
       "1888                Canada   Huile Graines de Coton  vegetaux    7064.516129\n",
       "2691              Danemark                   Olives  vegetaux    1303.571429\n",
       "1214              Bermudes  Huil Plantes Oleif Autr  vegetaux    8690.476190\n",
       "5384              Lettonie                     Maïs  vegetaux    3041.666667"
      ]
     },
     "execution_count": 18,
     "metadata": {},
     "output_type": "execute_result"
    }
   ],
   "source": [
    "df_ratio_energie_poids = pd.merge(df_dispo_alim_kcal, df_dispo_alim_kg)\n",
    "\n",
    "# je retire les lignes où il y aurait un 0 avant de diviser\n",
    "df_ratio_energie_poids = df_ratio_energie_poids[df_ratio_energie_poids['kcal/pers/jour'] != 0]\n",
    "df_ratio_energie_poids = df_ratio_energie_poids[df_ratio_energie_poids['dispo kg/pers/an'] != 0]\n",
    "\n",
    "df_ratio_energie_poids['ratio kcal/kg'] = (df_ratio_energie_poids['kcal/pers/jour']) / ((df_ratio_energie_poids['dispo kg/pers/an'])/365)\n",
    "\n",
    "#Je nettoie le dataframe\n",
    "df_ratio_energie_poids = df_ratio_energie_poids[['pays','produit','groupe','ratio kcal/kg']]\n",
    "                                                 \n",
    "# Je retire les lignes qui ont seulement la colonne ratio energie/poids = à NaN\n",
    "df_ratio_energie_poids = df_ratio_energie_poids.dropna(subset = ['ratio kcal/kg'])\n",
    "\n",
    "# et je retire les lignes où celui ci est égal à 0\n",
    "df_ratio_energie_poids = df_ratio_energie_poids[df_ratio_energie_poids['ratio kcal/kg'] != 0]\n",
    "\n",
    "df_ratio_energie_poids.sample(5)"
   ]
  },
  {
   "cell_type": "markdown",
   "metadata": {},
   "source": [
    "<B>Donnez le ratio énergie/poids pour 5 produits de votre choix</B>"
   ]
  },
  {
   "cell_type": "code",
   "execution_count": 19,
   "metadata": {
    "scrolled": true
   },
   "outputs": [
    {
     "data": {
      "text/plain": [
       "produit\n",
       "Sucre, betterave           510.5\n",
       "Edulcorants Autres        2524.9\n",
       "Huile Graines de Coton    8972.4\n",
       "Aliments pour enfants     3827.0\n",
       "Oranges, Mandarines        258.1\n",
       "Name: ratio kcal/kg, dtype: float64"
      ]
     },
     "execution_count": 19,
     "metadata": {},
     "output_type": "execute_result"
    }
   ],
   "source": [
    "# Je calcule la moyenne par produit, donc pour 1Kg de produit nous avons le nombre de Kcal par Kg\n",
    "df_ratio_energie_poids_total = df_ratio_energie_poids.groupby('produit')['ratio kcal/kg'].mean()\n",
    "round(df_ratio_energie_poids_total.sample(5),1)"
   ]
  },
  {
   "cell_type": "code",
   "execution_count": 20,
   "metadata": {
    "scrolled": true
   },
   "outputs": [
    {
     "data": {
      "text/plain": [
       "produit\n",
       "Huiles de Foie de Poisso    11809.0\n",
       "Huile de Sésame             10146.1\n",
       "Huile d'Olive                9292.7\n",
       "Huile de Germe de Maïs       9257.1\n",
       "Huile de Son de Riz          9206.1\n",
       "Name: ratio kcal/kg, dtype: float64"
      ]
     },
     "execution_count": 20,
     "metadata": {},
     "output_type": "execute_result"
    }
   ],
   "source": [
    "# Les 5 produits les plus caloriques\n",
    "round(df_ratio_energie_poids_total.nlargest(),1)"
   ]
  },
  {
   "cell_type": "code",
   "execution_count": 21,
   "metadata": {},
   "outputs": [
    {
     "data": {
      "text/plain": [
       "produit\n",
       "Citrons & Limes       194.8\n",
       "Tomates               202.7\n",
       "Mollusques, Autres    239.6\n",
       "Pamplemousse          248.8\n",
       "Agrumes, Autres       257.0\n",
       "Name: ratio kcal/kg, dtype: float64"
      ]
     },
     "execution_count": 21,
     "metadata": {},
     "output_type": "execute_result"
    }
   ],
   "source": [
    "# Les 5 produits les moins caloriques\n",
    "round(df_ratio_energie_poids_total.nsmallest(),1)"
   ]
  },
  {
   "cell_type": "markdown",
   "metadata": {},
   "source": [
    "<B> Calculez, pour les produits végétaux uniquement, la disponibilité intérieure mondiale exprimée en kcal </B>"
   ]
  },
  {
   "cell_type": "code",
   "execution_count": 22,
   "metadata": {},
   "outputs": [
    {
     "name": "stdout",
     "output_type": "stream",
     "text": [
      "16.6 billions de Kcal par jour\n"
     ]
    }
   ],
   "source": [
    "#Je reprend mon df_dispo_alim_pop, je ne garde que les végétaux et calcule la somme\n",
    "df_dispo_vegetaux = df_dispo_alim_pop[df_dispo_alim_pop['groupe'] == 'vegetaux' ]\n",
    "\n",
    "print(round(((df_dispo_vegetaux[\"dispo kcal/Jour\"].sum()/1000000000000)),1), \"billions de Kcal par jour\")"
   ]
  },
  {
   "cell_type": "markdown",
   "metadata": {},
   "source": [
    "<B> Question : en termes de disponibilité intérieure de produits végétaux, combien d'humains pourraient être nourris si toute la production végétale était utilisée pour de la nourriture ? </B>"
   ]
  },
  {
   "cell_type": "code",
   "execution_count": 23,
   "metadata": {},
   "outputs": [
    {
     "data": {
      "text/html": [
       "<div>\n",
       "<style scoped>\n",
       "    .dataframe tbody tr th:only-of-type {\n",
       "        vertical-align: middle;\n",
       "    }\n",
       "\n",
       "    .dataframe tbody tr th {\n",
       "        vertical-align: top;\n",
       "    }\n",
       "\n",
       "    .dataframe thead th {\n",
       "        text-align: right;\n",
       "    }\n",
       "</style>\n",
       "<table border=\"1\" class=\"dataframe\">\n",
       "  <thead>\n",
       "    <tr style=\"text-align: right;\">\n",
       "      <th></th>\n",
       "      <th>pays</th>\n",
       "      <th>code_element</th>\n",
       "      <th>element</th>\n",
       "      <th>produit</th>\n",
       "      <th>unite</th>\n",
       "      <th>valeur</th>\n",
       "      <th>groupe</th>\n",
       "    </tr>\n",
       "  </thead>\n",
       "  <tbody>\n",
       "    <tr>\n",
       "      <th>55066</th>\n",
       "      <td>Lettonie</td>\n",
       "      <td>5511</td>\n",
       "      <td>Production</td>\n",
       "      <td>Miel</td>\n",
       "      <td>Milliers de tonnes</td>\n",
       "      <td>2.0</td>\n",
       "      <td>vegetaux</td>\n",
       "    </tr>\n",
       "    <tr>\n",
       "      <th>52896</th>\n",
       "      <td>Kenya</td>\n",
       "      <td>5511</td>\n",
       "      <td>Production</td>\n",
       "      <td>Huil Plantes Oleif Autr</td>\n",
       "      <td>Milliers de tonnes</td>\n",
       "      <td>16.0</td>\n",
       "      <td>vegetaux</td>\n",
       "    </tr>\n",
       "    <tr>\n",
       "      <th>77855</th>\n",
       "      <td>Pologne</td>\n",
       "      <td>5511</td>\n",
       "      <td>Production</td>\n",
       "      <td>Légumes, Autres</td>\n",
       "      <td>Milliers de tonnes</td>\n",
       "      <td>3904.0</td>\n",
       "      <td>vegetaux</td>\n",
       "    </tr>\n",
       "    <tr>\n",
       "      <th>41390</th>\n",
       "      <td>Guinée</td>\n",
       "      <td>5511</td>\n",
       "      <td>Production</td>\n",
       "      <td>Bière</td>\n",
       "      <td>Milliers de tonnes</td>\n",
       "      <td>25.0</td>\n",
       "      <td>vegetaux</td>\n",
       "    </tr>\n",
       "    <tr>\n",
       "      <th>23499</th>\n",
       "      <td>Colombie</td>\n",
       "      <td>5511</td>\n",
       "      <td>Production</td>\n",
       "      <td>Légumineuses Autres</td>\n",
       "      <td>Milliers de tonnes</td>\n",
       "      <td>7.0</td>\n",
       "      <td>vegetaux</td>\n",
       "    </tr>\n",
       "  </tbody>\n",
       "</table>\n",
       "</div>"
      ],
      "text/plain": [
       "           pays  code_element     element                  produit  \\\n",
       "55066  Lettonie          5511  Production                     Miel   \n",
       "52896     Kenya          5511  Production  Huil Plantes Oleif Autr   \n",
       "77855   Pologne          5511  Production          Légumes, Autres   \n",
       "41390    Guinée          5511  Production                    Bière   \n",
       "23499  Colombie          5511  Production      Légumineuses Autres   \n",
       "\n",
       "                    unite  valeur    groupe  \n",
       "55066  Milliers de tonnes     2.0  vegetaux  \n",
       "52896  Milliers de tonnes    16.0  vegetaux  \n",
       "77855  Milliers de tonnes  3904.0  vegetaux  \n",
       "41390  Milliers de tonnes    25.0  vegetaux  \n",
       "23499  Milliers de tonnes     7.0  vegetaux  "
      ]
     },
     "execution_count": 23,
     "metadata": {},
     "output_type": "execute_result"
    }
   ],
   "source": [
    "# Je crée un dataframe comprenant la production par pays et par produit (végétaux)\n",
    "# à partir de mon dataframe df_bilan_vegetaux\n",
    "\n",
    "df_prod_vegetaux = df_bilan_vegetaux[df_bilan_vegetaux['code_element'] == 5511]\n",
    "df_prod_vegetaux = df_prod_vegetaux[df_prod_vegetaux['valeur'] != 0]\n",
    "df_prod_vegetaux.sample(5)"
   ]
  },
  {
   "cell_type": "code",
   "execution_count": 24,
   "metadata": {
    "scrolled": true
   },
   "outputs": [
    {
     "data": {
      "text/html": [
       "<div>\n",
       "<style scoped>\n",
       "    .dataframe tbody tr th:only-of-type {\n",
       "        vertical-align: middle;\n",
       "    }\n",
       "\n",
       "    .dataframe tbody tr th {\n",
       "        vertical-align: top;\n",
       "    }\n",
       "\n",
       "    .dataframe thead th {\n",
       "        text-align: right;\n",
       "    }\n",
       "</style>\n",
       "<table border=\"1\" class=\"dataframe\">\n",
       "  <thead>\n",
       "    <tr style=\"text-align: right;\">\n",
       "      <th></th>\n",
       "      <th>pays</th>\n",
       "      <th>code_element</th>\n",
       "      <th>element</th>\n",
       "      <th>produit</th>\n",
       "      <th>unite</th>\n",
       "      <th>valeur</th>\n",
       "      <th>groupe</th>\n",
       "      <th>ratio kcal/kg</th>\n",
       "    </tr>\n",
       "  </thead>\n",
       "  <tbody>\n",
       "    <tr>\n",
       "      <th>0</th>\n",
       "      <td>Afghanistan</td>\n",
       "      <td>5511</td>\n",
       "      <td>Production</td>\n",
       "      <td>Blé</td>\n",
       "      <td>Milliers de tonnes</td>\n",
       "      <td>5169.0</td>\n",
       "      <td>vegetaux</td>\n",
       "      <td>3118.548337</td>\n",
       "    </tr>\n",
       "    <tr>\n",
       "      <th>1</th>\n",
       "      <td>Afghanistan</td>\n",
       "      <td>5511</td>\n",
       "      <td>Production</td>\n",
       "      <td>Riz (Eq Blanchi)</td>\n",
       "      <td>Milliers de tonnes</td>\n",
       "      <td>342.0</td>\n",
       "      <td>vegetaux</td>\n",
       "      <td>3723.950796</td>\n",
       "    </tr>\n",
       "    <tr>\n",
       "      <th>2</th>\n",
       "      <td>Afghanistan</td>\n",
       "      <td>5511</td>\n",
       "      <td>Production</td>\n",
       "      <td>Orge</td>\n",
       "      <td>Milliers de tonnes</td>\n",
       "      <td>514.0</td>\n",
       "      <td>vegetaux</td>\n",
       "      <td>3250.000000</td>\n",
       "    </tr>\n",
       "    <tr>\n",
       "      <th>3</th>\n",
       "      <td>Afghanistan</td>\n",
       "      <td>5511</td>\n",
       "      <td>Production</td>\n",
       "      <td>Maïs</td>\n",
       "      <td>Milliers de tonnes</td>\n",
       "      <td>312.0</td>\n",
       "      <td>vegetaux</td>\n",
       "      <td>3066.000000</td>\n",
       "    </tr>\n",
       "    <tr>\n",
       "      <th>4</th>\n",
       "      <td>Afghanistan</td>\n",
       "      <td>5511</td>\n",
       "      <td>Production</td>\n",
       "      <td>Millet</td>\n",
       "      <td>Milliers de tonnes</td>\n",
       "      <td>13.0</td>\n",
       "      <td>vegetaux</td>\n",
       "      <td>2737.500000</td>\n",
       "    </tr>\n",
       "  </tbody>\n",
       "</table>\n",
       "</div>"
      ],
      "text/plain": [
       "          pays  code_element     element           produit  \\\n",
       "0  Afghanistan          5511  Production               Blé   \n",
       "1  Afghanistan          5511  Production  Riz (Eq Blanchi)   \n",
       "2  Afghanistan          5511  Production              Orge   \n",
       "3  Afghanistan          5511  Production              Maïs   \n",
       "4  Afghanistan          5511  Production            Millet   \n",
       "\n",
       "                unite  valeur    groupe  ratio kcal/kg  \n",
       "0  Milliers de tonnes  5169.0  vegetaux    3118.548337  \n",
       "1  Milliers de tonnes   342.0  vegetaux    3723.950796  \n",
       "2  Milliers de tonnes   514.0  vegetaux    3250.000000  \n",
       "3  Milliers de tonnes   312.0  vegetaux    3066.000000  \n",
       "4  Milliers de tonnes    13.0  vegetaux    2737.500000  "
      ]
     },
     "execution_count": 24,
     "metadata": {},
     "output_type": "execute_result"
    }
   ],
   "source": [
    "# Je fais une jointure avec mon dataframe contenant les ratio Kcal/Kg pour obtenir une colonne indiquant\n",
    "# le nombre de calories disponible par pays et par produit :\n",
    "\n",
    "df_prod_vegetaux_kcal = pd.merge(df_prod_vegetaux, df_ratio_energie_poids)\n",
    "df_prod_vegetaux_kcal.head()"
   ]
  },
  {
   "cell_type": "code",
   "execution_count": 25,
   "metadata": {},
   "outputs": [
    {
     "data": {
      "text/html": [
       "<div>\n",
       "<style scoped>\n",
       "    .dataframe tbody tr th:only-of-type {\n",
       "        vertical-align: middle;\n",
       "    }\n",
       "\n",
       "    .dataframe tbody tr th {\n",
       "        vertical-align: top;\n",
       "    }\n",
       "\n",
       "    .dataframe thead th {\n",
       "        text-align: right;\n",
       "    }\n",
       "</style>\n",
       "<table border=\"1\" class=\"dataframe\">\n",
       "  <thead>\n",
       "    <tr style=\"text-align: right;\">\n",
       "      <th></th>\n",
       "      <th>pays</th>\n",
       "      <th>produit</th>\n",
       "      <th>groupe</th>\n",
       "      <th>kcalories_produites/jour</th>\n",
       "    </tr>\n",
       "  </thead>\n",
       "  <tbody>\n",
       "    <tr>\n",
       "      <th>2489</th>\n",
       "      <td>Madagascar</td>\n",
       "      <td>Miel</td>\n",
       "      <td>vegetaux</td>\n",
       "      <td>4.210526e+07</td>\n",
       "    </tr>\n",
       "    <tr>\n",
       "      <th>30</th>\n",
       "      <td>Afrique du Sud</td>\n",
       "      <td>Pommes de Terre</td>\n",
       "      <td>vegetaux</td>\n",
       "      <td>4.254403e+09</td>\n",
       "    </tr>\n",
       "    <tr>\n",
       "      <th>4136</th>\n",
       "      <td>Togo</td>\n",
       "      <td>Légumineuses Autres</td>\n",
       "      <td>vegetaux</td>\n",
       "      <td>6.153846e+07</td>\n",
       "    </tr>\n",
       "    <tr>\n",
       "      <th>1407</th>\n",
       "      <td>Éthiopie</td>\n",
       "      <td>Ignames</td>\n",
       "      <td>vegetaux</td>\n",
       "      <td>3.294768e+09</td>\n",
       "    </tr>\n",
       "    <tr>\n",
       "      <th>3416</th>\n",
       "      <td>République de Corée</td>\n",
       "      <td>Fruits, Autres</td>\n",
       "      <td>vegetaux</td>\n",
       "      <td>1.677955e+09</td>\n",
       "    </tr>\n",
       "  </tbody>\n",
       "</table>\n",
       "</div>"
      ],
      "text/plain": [
       "                     pays              produit    groupe  \\\n",
       "2489           Madagascar                 Miel  vegetaux   \n",
       "30         Afrique du Sud      Pommes de Terre  vegetaux   \n",
       "4136                 Togo  Légumineuses Autres  vegetaux   \n",
       "1407             Éthiopie              Ignames  vegetaux   \n",
       "3416  République de Corée       Fruits, Autres  vegetaux   \n",
       "\n",
       "      kcalories_produites/jour  \n",
       "2489              4.210526e+07  \n",
       "30                4.254403e+09  \n",
       "4136              6.153846e+07  \n",
       "1407              3.294768e+09  \n",
       "3416              1.677955e+09  "
      ]
     },
     "execution_count": 25,
     "metadata": {},
     "output_type": "execute_result"
    }
   ],
   "source": [
    "df_prod_vegetaux_kcal['kcalories_produites/jour'] = (((df_prod_vegetaux_kcal['valeur']*1000000)/365) * df_prod_vegetaux_kcal['ratio kcal/kg'])\n",
    "\n",
    "#Je nettoie le DataFrame\n",
    "df_prod_vegetaux_kcal = df_prod_vegetaux_kcal[['pays','produit','groupe','kcalories_produites/jour']]\n",
    "df_prod_vegetaux_kcal.sample(5)"
   ]
  },
  {
   "cell_type": "code",
   "execution_count": 26,
   "metadata": {
    "scrolled": false
   },
   "outputs": [
    {
     "name": "stdout",
     "output_type": "stream",
     "text": [
      "34.39555642480874 billions de Kcal\n"
     ]
    }
   ],
   "source": [
    "#KCalories disponibles dans le monde\n",
    "print((df_prod_vegetaux_kcal['kcalories_produites/jour'].sum()/10**12), \"billions de Kcal\")"
   ]
  },
  {
   "cell_type": "code",
   "execution_count": 27,
   "metadata": {},
   "outputs": [
    {
     "name": "stdout",
     "output_type": "stream",
     "text": [
      "14.248366373160206 milliards de personnes\n"
     ]
    }
   ],
   "source": [
    "#Recommandation FAO de 2414 Kcal/jour (je divise le résultats pour avoir en milliards)\n",
    "\n",
    "print(((df_prod_vegetaux_kcal['kcalories_produites/jour'].sum()/2414)/10**9),\"milliards de personnes\")"
   ]
  },
  {
   "cell_type": "markdown",
   "metadata": {},
   "source": [
    "<B>Question : en termes de disponibilité intérieure de produits végétaux, combien d'humains pourraient être nourris si toute la production végétale( mis à part ses utilisations en semences, traitement, et autre utilisations) était utilisée pour de la nourriture ?<B/>"
   ]
  },
  {
   "cell_type": "markdown",
   "metadata": {},
   "source": [
    "D'après la formule, \"disponibilité intérieure = aliments pour animaux + semences + pertes + traitements + autres utilisations + nourriture\", il faut donc que je soustraie les semences, le traitement et \n",
    "les autres utilisations"
   ]
  },
  {
   "cell_type": "markdown",
   "metadata": {},
   "source": [
    "Je vais créer plusieurs dataframes pour additionner ensuite les aliments pour animaux + les pertes + la nourriture"
   ]
  },
  {
   "cell_type": "code",
   "execution_count": 28,
   "metadata": {},
   "outputs": [
    {
     "data": {
      "text/html": [
       "<div>\n",
       "<style scoped>\n",
       "    .dataframe tbody tr th:only-of-type {\n",
       "        vertical-align: middle;\n",
       "    }\n",
       "\n",
       "    .dataframe tbody tr th {\n",
       "        vertical-align: top;\n",
       "    }\n",
       "\n",
       "    .dataframe thead th {\n",
       "        text-align: right;\n",
       "    }\n",
       "</style>\n",
       "<table border=\"1\" class=\"dataframe\">\n",
       "  <thead>\n",
       "    <tr style=\"text-align: right;\">\n",
       "      <th></th>\n",
       "      <th>pays</th>\n",
       "      <th>produit</th>\n",
       "      <th>alim animaux en milliers de tonnes</th>\n",
       "      <th>groupe</th>\n",
       "    </tr>\n",
       "  </thead>\n",
       "  <tbody>\n",
       "    <tr>\n",
       "      <th>25</th>\n",
       "      <td>Afghanistan</td>\n",
       "      <td>Orge</td>\n",
       "      <td>360.0</td>\n",
       "      <td>vegetaux</td>\n",
       "    </tr>\n",
       "  </tbody>\n",
       "</table>\n",
       "</div>"
      ],
      "text/plain": [
       "           pays produit  alim animaux en milliers de tonnes    groupe\n",
       "25  Afghanistan    Orge                               360.0  vegetaux"
      ]
     },
     "execution_count": 28,
     "metadata": {},
     "output_type": "execute_result"
    }
   ],
   "source": [
    "# Les aliments pour animaux\n",
    "df_alim_animaux_vegetaux = df_bilan_vegetaux[df_bilan_vegetaux['code_element'] == 5521]\n",
    "df_alim_animaux_vegetaux = df_alim_animaux_vegetaux[['pays','produit','valeur','groupe']]\n",
    "df_alim_animaux_vegetaux.columns = ['pays','produit','alim animaux en milliers de tonnes','groupe']\n",
    "df_alim_animaux_vegetaux.head(1)"
   ]
  },
  {
   "cell_type": "code",
   "execution_count": 29,
   "metadata": {},
   "outputs": [
    {
     "data": {
      "text/html": [
       "<div>\n",
       "<style scoped>\n",
       "    .dataframe tbody tr th:only-of-type {\n",
       "        vertical-align: middle;\n",
       "    }\n",
       "\n",
       "    .dataframe tbody tr th {\n",
       "        vertical-align: top;\n",
       "    }\n",
       "\n",
       "    .dataframe thead th {\n",
       "        text-align: right;\n",
       "    }\n",
       "</style>\n",
       "<table border=\"1\" class=\"dataframe\">\n",
       "  <thead>\n",
       "    <tr style=\"text-align: right;\">\n",
       "      <th></th>\n",
       "      <th>pays</th>\n",
       "      <th>produit</th>\n",
       "      <th>pertes en milliers de tonnes</th>\n",
       "      <th>groupe</th>\n",
       "    </tr>\n",
       "  </thead>\n",
       "  <tbody>\n",
       "    <tr>\n",
       "      <th>5</th>\n",
       "      <td>Afghanistan</td>\n",
       "      <td>Blé</td>\n",
       "      <td>775.0</td>\n",
       "      <td>vegetaux</td>\n",
       "    </tr>\n",
       "  </tbody>\n",
       "</table>\n",
       "</div>"
      ],
      "text/plain": [
       "          pays produit  pertes en milliers de tonnes    groupe\n",
       "5  Afghanistan     Blé                         775.0  vegetaux"
      ]
     },
     "execution_count": 29,
     "metadata": {},
     "output_type": "execute_result"
    }
   ],
   "source": [
    "# Les pertes\n",
    "df_pertes_vegetaux = df_bilan_vegetaux[df_bilan_vegetaux['code_element'] == 5123]\n",
    "df_pertes_vegetaux = df_pertes_vegetaux[['pays','produit','valeur','groupe']]\n",
    "df_pertes_vegetaux.columns = ['pays','produit','pertes en milliers de tonnes','groupe']\n",
    "df_pertes_vegetaux.head(1)"
   ]
  },
  {
   "cell_type": "code",
   "execution_count": 30,
   "metadata": {},
   "outputs": [
    {
     "data": {
      "text/html": [
       "<div>\n",
       "<style scoped>\n",
       "    .dataframe tbody tr th:only-of-type {\n",
       "        vertical-align: middle;\n",
       "    }\n",
       "\n",
       "    .dataframe tbody tr th {\n",
       "        vertical-align: top;\n",
       "    }\n",
       "\n",
       "    .dataframe thead th {\n",
       "        text-align: right;\n",
       "    }\n",
       "</style>\n",
       "<table border=\"1\" class=\"dataframe\">\n",
       "  <thead>\n",
       "    <tr style=\"text-align: right;\">\n",
       "      <th></th>\n",
       "      <th>pays</th>\n",
       "      <th>produit</th>\n",
       "      <th>nourriture en milliers de tonnes</th>\n",
       "      <th>groupe</th>\n",
       "    </tr>\n",
       "  </thead>\n",
       "  <tbody>\n",
       "    <tr>\n",
       "      <th>6</th>\n",
       "      <td>Afghanistan</td>\n",
       "      <td>Blé</td>\n",
       "      <td>4895.0</td>\n",
       "      <td>vegetaux</td>\n",
       "    </tr>\n",
       "  </tbody>\n",
       "</table>\n",
       "</div>"
      ],
      "text/plain": [
       "          pays produit  nourriture en milliers de tonnes    groupe\n",
       "6  Afghanistan     Blé                            4895.0  vegetaux"
      ]
     },
     "execution_count": 30,
     "metadata": {},
     "output_type": "execute_result"
    }
   ],
   "source": [
    "# La nourriture\n",
    "df_nourriture_vegetaux = df_bilan_vegetaux[df_bilan_vegetaux['code_element'] == 5142]\n",
    "df_nourriture_vegetaux = df_nourriture_vegetaux[['pays','produit','valeur','groupe']]\n",
    "df_nourriture_vegetaux.columns = ['pays','produit','nourriture en milliers de tonnes','groupe']\n",
    "df_nourriture_vegetaux.head(1)"
   ]
  },
  {
   "cell_type": "markdown",
   "metadata": {},
   "source": [
    "Je joins donc ces 3 dataframes en 1 et créé une nouvelle colonne qui les aditionne, puis j'ajoute les ratio kcal/kg pour avoir le nombre de kcal par pays et produits"
   ]
  },
  {
   "cell_type": "code",
   "execution_count": 31,
   "metadata": {
    "scrolled": true
   },
   "outputs": [
    {
     "data": {
      "text/html": [
       "<div>\n",
       "<style scoped>\n",
       "    .dataframe tbody tr th:only-of-type {\n",
       "        vertical-align: middle;\n",
       "    }\n",
       "\n",
       "    .dataframe tbody tr th {\n",
       "        vertical-align: top;\n",
       "    }\n",
       "\n",
       "    .dataframe thead th {\n",
       "        text-align: right;\n",
       "    }\n",
       "</style>\n",
       "<table border=\"1\" class=\"dataframe\">\n",
       "  <thead>\n",
       "    <tr style=\"text-align: right;\">\n",
       "      <th></th>\n",
       "      <th>pays</th>\n",
       "      <th>produit</th>\n",
       "      <th>alim animaux en milliers de tonnes</th>\n",
       "      <th>groupe</th>\n",
       "      <th>pertes en milliers de tonnes</th>\n",
       "      <th>nourriture en milliers de tonnes</th>\n",
       "      <th>ratio kcal/kg</th>\n",
       "    </tr>\n",
       "  </thead>\n",
       "  <tbody>\n",
       "    <tr>\n",
       "      <th>0</th>\n",
       "      <td>Afghanistan</td>\n",
       "      <td>Orge</td>\n",
       "      <td>360.0</td>\n",
       "      <td>vegetaux</td>\n",
       "      <td>52.0</td>\n",
       "      <td>89.0</td>\n",
       "      <td>3250.000000</td>\n",
       "    </tr>\n",
       "    <tr>\n",
       "      <th>1</th>\n",
       "      <td>Afghanistan</td>\n",
       "      <td>Maïs</td>\n",
       "      <td>200.0</td>\n",
       "      <td>vegetaux</td>\n",
       "      <td>31.0</td>\n",
       "      <td>76.0</td>\n",
       "      <td>3066.000000</td>\n",
       "    </tr>\n",
       "    <tr>\n",
       "      <th>2</th>\n",
       "      <td>Afghanistan</td>\n",
       "      <td>Légumineuses Autres</td>\n",
       "      <td>4.0</td>\n",
       "      <td>vegetaux</td>\n",
       "      <td>3.0</td>\n",
       "      <td>74.0</td>\n",
       "      <td>3440.573770</td>\n",
       "    </tr>\n",
       "    <tr>\n",
       "      <th>3</th>\n",
       "      <td>Afrique du Sud</td>\n",
       "      <td>Blé</td>\n",
       "      <td>37.0</td>\n",
       "      <td>vegetaux</td>\n",
       "      <td>74.0</td>\n",
       "      <td>3174.0</td>\n",
       "      <td>2986.529187</td>\n",
       "    </tr>\n",
       "    <tr>\n",
       "      <th>4</th>\n",
       "      <td>Afrique du Sud</td>\n",
       "      <td>Orge</td>\n",
       "      <td>19.0</td>\n",
       "      <td>vegetaux</td>\n",
       "      <td>7.0</td>\n",
       "      <td>5.0</td>\n",
       "      <td>4055.555556</td>\n",
       "    </tr>\n",
       "  </tbody>\n",
       "</table>\n",
       "</div>"
      ],
      "text/plain": [
       "             pays              produit  alim animaux en milliers de tonnes  \\\n",
       "0     Afghanistan                 Orge                               360.0   \n",
       "1     Afghanistan                 Maïs                               200.0   \n",
       "2     Afghanistan  Légumineuses Autres                                 4.0   \n",
       "3  Afrique du Sud                  Blé                                37.0   \n",
       "4  Afrique du Sud                 Orge                                19.0   \n",
       "\n",
       "     groupe  pertes en milliers de tonnes  nourriture en milliers de tonnes  \\\n",
       "0  vegetaux                          52.0                              89.0   \n",
       "1  vegetaux                          31.0                              76.0   \n",
       "2  vegetaux                           3.0                              74.0   \n",
       "3  vegetaux                          74.0                            3174.0   \n",
       "4  vegetaux                           7.0                               5.0   \n",
       "\n",
       "   ratio kcal/kg  \n",
       "0    3250.000000  \n",
       "1    3066.000000  \n",
       "2    3440.573770  \n",
       "3    2986.529187  \n",
       "4    4055.555556  "
      ]
     },
     "execution_count": 31,
     "metadata": {},
     "output_type": "execute_result"
    }
   ],
   "source": [
    "DF1 = pd.merge(df_alim_animaux_vegetaux, df_pertes_vegetaux)\n",
    "DF2 = pd.merge(DF1, df_nourriture_vegetaux)\n",
    "df_prod_vegetaux_kcal_bis = pd.merge(DF2, df_ratio_energie_poids)\n",
    "\n",
    "df_prod_vegetaux_kcal_bis.head()"
   ]
  },
  {
   "cell_type": "code",
   "execution_count": 32,
   "metadata": {},
   "outputs": [
    {
     "data": {
      "text/html": [
       "<div>\n",
       "<style scoped>\n",
       "    .dataframe tbody tr th:only-of-type {\n",
       "        vertical-align: middle;\n",
       "    }\n",
       "\n",
       "    .dataframe tbody tr th {\n",
       "        vertical-align: top;\n",
       "    }\n",
       "\n",
       "    .dataframe thead th {\n",
       "        text-align: right;\n",
       "    }\n",
       "</style>\n",
       "<table border=\"1\" class=\"dataframe\">\n",
       "  <thead>\n",
       "    <tr style=\"text-align: right;\">\n",
       "      <th></th>\n",
       "      <th>pays</th>\n",
       "      <th>produit</th>\n",
       "      <th>groupe</th>\n",
       "      <th>ratio kcal/kg</th>\n",
       "      <th>alim_dispo/jour</th>\n",
       "    </tr>\n",
       "  </thead>\n",
       "  <tbody>\n",
       "    <tr>\n",
       "      <th>0</th>\n",
       "      <td>Afghanistan</td>\n",
       "      <td>Orge</td>\n",
       "      <td>vegetaux</td>\n",
       "      <td>3250.000000</td>\n",
       "      <td>1.372603e+06</td>\n",
       "    </tr>\n",
       "    <tr>\n",
       "      <th>1</th>\n",
       "      <td>Afghanistan</td>\n",
       "      <td>Maïs</td>\n",
       "      <td>vegetaux</td>\n",
       "      <td>3066.000000</td>\n",
       "      <td>8.410959e+05</td>\n",
       "    </tr>\n",
       "    <tr>\n",
       "      <th>2</th>\n",
       "      <td>Afghanistan</td>\n",
       "      <td>Légumineuses Autres</td>\n",
       "      <td>vegetaux</td>\n",
       "      <td>3440.573770</td>\n",
       "      <td>2.219178e+05</td>\n",
       "    </tr>\n",
       "    <tr>\n",
       "      <th>3</th>\n",
       "      <td>Afrique du Sud</td>\n",
       "      <td>Blé</td>\n",
       "      <td>vegetaux</td>\n",
       "      <td>2986.529187</td>\n",
       "      <td>9.000000e+06</td>\n",
       "    </tr>\n",
       "    <tr>\n",
       "      <th>4</th>\n",
       "      <td>Afrique du Sud</td>\n",
       "      <td>Orge</td>\n",
       "      <td>vegetaux</td>\n",
       "      <td>4055.555556</td>\n",
       "      <td>8.493151e+04</td>\n",
       "    </tr>\n",
       "  </tbody>\n",
       "</table>\n",
       "</div>"
      ],
      "text/plain": [
       "             pays              produit    groupe  ratio kcal/kg  \\\n",
       "0     Afghanistan                 Orge  vegetaux    3250.000000   \n",
       "1     Afghanistan                 Maïs  vegetaux    3066.000000   \n",
       "2     Afghanistan  Légumineuses Autres  vegetaux    3440.573770   \n",
       "3  Afrique du Sud                  Blé  vegetaux    2986.529187   \n",
       "4  Afrique du Sud                 Orge  vegetaux    4055.555556   \n",
       "\n",
       "   alim_dispo/jour  \n",
       "0     1.372603e+06  \n",
       "1     8.410959e+05  \n",
       "2     2.219178e+05  \n",
       "3     9.000000e+06  \n",
       "4     8.493151e+04  "
      ]
     },
     "execution_count": 32,
     "metadata": {},
     "output_type": "execute_result"
    }
   ],
   "source": [
    "df_prod_vegetaux_kcal_bis['alim_dispo/jour'] = (((df_prod_vegetaux_kcal_bis['alim animaux en milliers de tonnes']) + (df_prod_vegetaux_kcal_bis['pertes en milliers de tonnes']) + (df_prod_vegetaux_kcal_bis['nourriture en milliers de tonnes']))*1000000)/365\n",
    "df_prod_vegetaux_kcal_bis = df_prod_vegetaux_kcal_bis[['pays','produit','groupe','ratio kcal/kg','alim_dispo/jour']]\n",
    "df_prod_vegetaux_kcal_bis.head()"
   ]
  },
  {
   "cell_type": "code",
   "execution_count": 33,
   "metadata": {},
   "outputs": [
    {
     "data": {
      "text/html": [
       "<div>\n",
       "<style scoped>\n",
       "    .dataframe tbody tr th:only-of-type {\n",
       "        vertical-align: middle;\n",
       "    }\n",
       "\n",
       "    .dataframe tbody tr th {\n",
       "        vertical-align: top;\n",
       "    }\n",
       "\n",
       "    .dataframe thead th {\n",
       "        text-align: right;\n",
       "    }\n",
       "</style>\n",
       "<table border=\"1\" class=\"dataframe\">\n",
       "  <thead>\n",
       "    <tr style=\"text-align: right;\">\n",
       "      <th></th>\n",
       "      <th>pays</th>\n",
       "      <th>produit</th>\n",
       "      <th>groupe</th>\n",
       "      <th>kcalories_dispo/jour</th>\n",
       "    </tr>\n",
       "  </thead>\n",
       "  <tbody>\n",
       "    <tr>\n",
       "      <th>876</th>\n",
       "      <td>Royaume-Uni</td>\n",
       "      <td>Orge</td>\n",
       "      <td>vegetaux</td>\n",
       "      <td>2.257237e+10</td>\n",
       "    </tr>\n",
       "    <tr>\n",
       "      <th>639</th>\n",
       "      <td>Maroc</td>\n",
       "      <td>Pommes de Terre</td>\n",
       "      <td>vegetaux</td>\n",
       "      <td>3.583072e+09</td>\n",
       "    </tr>\n",
       "    <tr>\n",
       "      <th>868</th>\n",
       "      <td>Roumanie</td>\n",
       "      <td>Sucre Eq Brut</td>\n",
       "      <td>vegetaux</td>\n",
       "      <td>4.803891e+09</td>\n",
       "    </tr>\n",
       "    <tr>\n",
       "      <th>120</th>\n",
       "      <td>Belgique</td>\n",
       "      <td>Légumes, Autres</td>\n",
       "      <td>vegetaux</td>\n",
       "      <td>1.453969e+09</td>\n",
       "    </tr>\n",
       "    <tr>\n",
       "      <th>723</th>\n",
       "      <td>Nouvelle-Zélande</td>\n",
       "      <td>Avoine</td>\n",
       "      <td>vegetaux</td>\n",
       "      <td>3.720365e+08</td>\n",
       "    </tr>\n",
       "  </tbody>\n",
       "</table>\n",
       "</div>"
      ],
      "text/plain": [
       "                 pays          produit    groupe  kcalories_dispo/jour\n",
       "876       Royaume-Uni             Orge  vegetaux          2.257237e+10\n",
       "639             Maroc  Pommes de Terre  vegetaux          3.583072e+09\n",
       "868          Roumanie    Sucre Eq Brut  vegetaux          4.803891e+09\n",
       "120          Belgique  Légumes, Autres  vegetaux          1.453969e+09\n",
       "723  Nouvelle-Zélande           Avoine  vegetaux          3.720365e+08"
      ]
     },
     "execution_count": 33,
     "metadata": {},
     "output_type": "execute_result"
    }
   ],
   "source": [
    "df_prod_vegetaux_kcal_bis['kcalories_dispo/jour'] = ((df_prod_vegetaux_kcal_bis['alim_dispo/jour']) * df_prod_vegetaux_kcal_bis['ratio kcal/kg'])\n",
    "\n",
    "#Je nettoie le DataFrame\n",
    "df_prod_vegetaux_kcal_bis = df_prod_vegetaux_kcal_bis[['pays','produit','groupe','kcalories_dispo/jour']]\n",
    "df_prod_vegetaux_kcal_bis.sample(5)"
   ]
  },
  {
   "cell_type": "markdown",
   "metadata": {},
   "source": [
    "Je fais donc la somme de ces calories disponibles et je divise par le nombre de calories recommandées par la FAO"
   ]
  },
  {
   "cell_type": "code",
   "execution_count": 34,
   "metadata": {},
   "outputs": [
    {
     "name": "stdout",
     "output_type": "stream",
     "text": [
      "6.9 milliards de personnes\n"
     ]
    }
   ],
   "source": [
    "print(round(((df_prod_vegetaux_kcal_bis['kcalories_dispo/jour'].sum()/2414)/1000000000),1),\"milliards de personnes\")"
   ]
  },
  {
   "cell_type": "markdown",
   "metadata": {},
   "source": [
    "<B>Quelle proportion de la population mondiale est considérée comme étant en sous-nutrition ? (Donnez ce résultat pour l'année 2013 ainsi que pour la dernière année disponible)<B/>"
   ]
  },
  {
   "cell_type": "code",
   "execution_count": 35,
   "metadata": {},
   "outputs": [
    {
     "data": {
      "text/html": [
       "<div>\n",
       "<style scoped>\n",
       "    .dataframe tbody tr th:only-of-type {\n",
       "        vertical-align: middle;\n",
       "    }\n",
       "\n",
       "    .dataframe tbody tr th {\n",
       "        vertical-align: top;\n",
       "    }\n",
       "\n",
       "    .dataframe thead th {\n",
       "        text-align: right;\n",
       "    }\n",
       "</style>\n",
       "<table border=\"1\" class=\"dataframe\">\n",
       "  <thead>\n",
       "    <tr style=\"text-align: right;\">\n",
       "      <th></th>\n",
       "      <th>zone</th>\n",
       "      <th>annee</th>\n",
       "      <th>nbr pers sous alim en millions</th>\n",
       "    </tr>\n",
       "  </thead>\n",
       "  <tbody>\n",
       "    <tr>\n",
       "      <th>0</th>\n",
       "      <td>Afghanistan</td>\n",
       "      <td>2012-2014</td>\n",
       "      <td>7.2</td>\n",
       "    </tr>\n",
       "    <tr>\n",
       "      <th>1</th>\n",
       "      <td>Afghanistan</td>\n",
       "      <td>2015-2017</td>\n",
       "      <td>NaN</td>\n",
       "    </tr>\n",
       "    <tr>\n",
       "      <th>2</th>\n",
       "      <td>Afrique du Sud</td>\n",
       "      <td>2012-2014</td>\n",
       "      <td>2.0</td>\n",
       "    </tr>\n",
       "    <tr>\n",
       "      <th>3</th>\n",
       "      <td>Afrique du Sud</td>\n",
       "      <td>2015-2017</td>\n",
       "      <td>NaN</td>\n",
       "    </tr>\n",
       "    <tr>\n",
       "      <th>4</th>\n",
       "      <td>Albanie</td>\n",
       "      <td>2012-2014</td>\n",
       "      <td>0.2</td>\n",
       "    </tr>\n",
       "  </tbody>\n",
       "</table>\n",
       "</div>"
      ],
      "text/plain": [
       "             zone      annee  nbr pers sous alim en millions\n",
       "0     Afghanistan  2012-2014                             7.2\n",
       "1     Afghanistan  2015-2017                             NaN\n",
       "2  Afrique du Sud  2012-2014                             2.0\n",
       "3  Afrique du Sud  2015-2017                             NaN\n",
       "4         Albanie  2012-2014                             0.2"
      ]
     },
     "execution_count": 35,
     "metadata": {},
     "output_type": "execute_result"
    }
   ],
   "source": [
    "df_population_sousalim = pd.read_csv(\"FAOSTAT_pop_sousalim.csv\")\n",
    "df_population_sousalim = df_population_sousalim[['Zone','Année','Valeur']]\n",
    "df_population_sousalim.columns = ['zone','annee','nbr pers sous alim en millions']\n",
    "df_population_sousalim.head()"
   ]
  },
  {
   "cell_type": "code",
   "execution_count": 36,
   "metadata": {},
   "outputs": [
    {
     "data": {
      "text/html": [
       "<div>\n",
       "<style scoped>\n",
       "    .dataframe tbody tr th:only-of-type {\n",
       "        vertical-align: middle;\n",
       "    }\n",
       "\n",
       "    .dataframe tbody tr th {\n",
       "        vertical-align: top;\n",
       "    }\n",
       "\n",
       "    .dataframe thead th {\n",
       "        text-align: right;\n",
       "    }\n",
       "</style>\n",
       "<table border=\"1\" class=\"dataframe\">\n",
       "  <thead>\n",
       "    <tr style=\"text-align: right;\">\n",
       "      <th></th>\n",
       "      <th>zone</th>\n",
       "      <th>annee</th>\n",
       "      <th>nbr pers sous alim en millions</th>\n",
       "    </tr>\n",
       "  </thead>\n",
       "  <tbody>\n",
       "    <tr>\n",
       "      <th>156</th>\n",
       "      <td>Haïti</td>\n",
       "      <td>2012-2014</td>\n",
       "      <td>5.2</td>\n",
       "    </tr>\n",
       "    <tr>\n",
       "      <th>110</th>\n",
       "      <td>Émirats arabes unis</td>\n",
       "      <td>2012-2014</td>\n",
       "      <td>0.4</td>\n",
       "    </tr>\n",
       "    <tr>\n",
       "      <th>362</th>\n",
       "      <td>Swaziland</td>\n",
       "      <td>2012-2014</td>\n",
       "      <td>0.3</td>\n",
       "    </tr>\n",
       "    <tr>\n",
       "      <th>224</th>\n",
       "      <td>Mali</td>\n",
       "      <td>2012-2014</td>\n",
       "      <td>1.0</td>\n",
       "    </tr>\n",
       "    <tr>\n",
       "      <th>68</th>\n",
       "      <td>Cameroun</td>\n",
       "      <td>2012-2014</td>\n",
       "      <td>1.8</td>\n",
       "    </tr>\n",
       "  </tbody>\n",
       "</table>\n",
       "</div>"
      ],
      "text/plain": [
       "                    zone      annee  nbr pers sous alim en millions\n",
       "156                Haïti  2012-2014                             5.2\n",
       "110  Émirats arabes unis  2012-2014                             0.4\n",
       "362            Swaziland  2012-2014                             0.3\n",
       "224                 Mali  2012-2014                             1.0\n",
       "68              Cameroun  2012-2014                             1.8"
      ]
     },
     "execution_count": 36,
     "metadata": {},
     "output_type": "execute_result"
    }
   ],
   "source": [
    "# Je supprime la chine et les valeurs NaN\n",
    "df_population_sousalim = df_population_sousalim[df_population_sousalim['zone'] != 'Chine']\n",
    "df_population_sousalim = df_population_sousalim.dropna(subset = ['nbr pers sous alim en millions'])\n",
    "df_population_sousalim.sample(5)"
   ]
  },
  {
   "cell_type": "code",
   "execution_count": 37,
   "metadata": {},
   "outputs": [],
   "source": [
    "# Je crée un dataframe pour 2013 et un autre pour 2016\n",
    "df_population_sousalim_2013 = df_population_sousalim[df_population_sousalim['annee'] == '2012-2014']\n",
    "df_population_sousalim_2016 = df_population_sousalim[df_population_sousalim['annee'] == '2015-2017']"
   ]
  },
  {
   "cell_type": "code",
   "execution_count": 38,
   "metadata": {},
   "outputs": [
    {
     "data": {
      "text/html": [
       "<div>\n",
       "<style scoped>\n",
       "    .dataframe tbody tr th:only-of-type {\n",
       "        vertical-align: middle;\n",
       "    }\n",
       "\n",
       "    .dataframe tbody tr th {\n",
       "        vertical-align: top;\n",
       "    }\n",
       "\n",
       "    .dataframe thead th {\n",
       "        text-align: right;\n",
       "    }\n",
       "</style>\n",
       "<table border=\"1\" class=\"dataframe\">\n",
       "  <thead>\n",
       "    <tr style=\"text-align: right;\">\n",
       "      <th></th>\n",
       "      <th>zone</th>\n",
       "      <th>annee</th>\n",
       "      <th>nbr pers sous alim en millions</th>\n",
       "    </tr>\n",
       "  </thead>\n",
       "  <tbody>\n",
       "  </tbody>\n",
       "</table>\n",
       "</div>"
      ],
      "text/plain": [
       "Empty DataFrame\n",
       "Columns: [zone, annee, nbr pers sous alim en millions]\n",
       "Index: []"
      ]
     },
     "execution_count": 38,
     "metadata": {},
     "output_type": "execute_result"
    }
   ],
   "source": [
    "# Je me rends compte qu'il n'y a pas de données pour 2016, je vérifie\n",
    "df_population_sousalim.loc[df_population_sousalim['annee'].str.contains('2015-2017')]"
   ]
  },
  {
   "cell_type": "code",
   "execution_count": 39,
   "metadata": {},
   "outputs": [
    {
     "data": {
      "text/plain": [
       "True"
      ]
     },
     "execution_count": 39,
     "metadata": {},
     "output_type": "execute_result"
    }
   ],
   "source": [
    "#Je teste la somme du dataframe complet et juste de celui de 2013\n",
    "df_population_sousalim_2013['nbr pers sous alim en millions'].sum() == df_population_sousalim['nbr pers sous alim en millions'].sum()"
   ]
  },
  {
   "cell_type": "markdown",
   "metadata": {},
   "source": [
    "Je ne garde donc que l'année 2013 et supprime la colonne indiquant l'année"
   ]
  },
  {
   "cell_type": "code",
   "execution_count": 40,
   "metadata": {},
   "outputs": [
    {
     "data": {
      "text/html": [
       "<div>\n",
       "<style scoped>\n",
       "    .dataframe tbody tr th:only-of-type {\n",
       "        vertical-align: middle;\n",
       "    }\n",
       "\n",
       "    .dataframe tbody tr th {\n",
       "        vertical-align: top;\n",
       "    }\n",
       "\n",
       "    .dataframe thead th {\n",
       "        text-align: right;\n",
       "    }\n",
       "</style>\n",
       "<table border=\"1\" class=\"dataframe\">\n",
       "  <thead>\n",
       "    <tr style=\"text-align: right;\">\n",
       "      <th></th>\n",
       "      <th>zone</th>\n",
       "      <th>nbr pers sous alim en millions</th>\n",
       "    </tr>\n",
       "  </thead>\n",
       "  <tbody>\n",
       "    <tr>\n",
       "      <th>72</th>\n",
       "      <td>Chili</td>\n",
       "      <td>0.7</td>\n",
       "    </tr>\n",
       "  </tbody>\n",
       "</table>\n",
       "</div>"
      ],
      "text/plain": [
       "     zone  nbr pers sous alim en millions\n",
       "72  Chili                             0.7"
      ]
     },
     "execution_count": 40,
     "metadata": {},
     "output_type": "execute_result"
    }
   ],
   "source": [
    "df_population_sousalim_2013 = df_population_sousalim_2013[['zone','nbr pers sous alim en millions']]\n",
    "df_population_sousalim_2013.sample()"
   ]
  },
  {
   "cell_type": "code",
   "execution_count": 41,
   "metadata": {},
   "outputs": [
    {
     "name": "stdout",
     "output_type": "stream",
     "text": [
      "722.7 millions de personnes sous-alimentés\n"
     ]
    }
   ],
   "source": [
    "print(round(df_population_sousalim_2013['nbr pers sous alim en millions'].sum(),1), \"millions de personnes sous-alimentés\")"
   ]
  },
  {
   "cell_type": "markdown",
   "metadata": {},
   "source": [
    "Donc la proportion de la population est :"
   ]
  },
  {
   "cell_type": "code",
   "execution_count": 42,
   "metadata": {},
   "outputs": [
    {
     "name": "stdout",
     "output_type": "stream",
     "text": [
      "10.3 pourcent de personnes sous-alimentés\n"
     ]
    }
   ],
   "source": [
    "print(round((df_population_sousalim_2013['nbr pers sous alim en millions'].sum()*100)/(df_population[\"valeur\"].sum()/1000),1), \"pourcent de personnes sous-alimentés\")"
   ]
  },
  {
   "cell_type": "code",
   "execution_count": 43,
   "metadata": {},
   "outputs": [
    {
     "data": {
      "text/html": [
       "<div>\n",
       "<style scoped>\n",
       "    .dataframe tbody tr th:only-of-type {\n",
       "        vertical-align: middle;\n",
       "    }\n",
       "\n",
       "    .dataframe tbody tr th {\n",
       "        vertical-align: top;\n",
       "    }\n",
       "\n",
       "    .dataframe thead th {\n",
       "        text-align: right;\n",
       "    }\n",
       "</style>\n",
       "<table border=\"1\" class=\"dataframe\">\n",
       "  <thead>\n",
       "    <tr style=\"text-align: right;\">\n",
       "      <th></th>\n",
       "      <th>zone</th>\n",
       "      <th>nbr pers sous alim en millions</th>\n",
       "    </tr>\n",
       "  </thead>\n",
       "  <tbody>\n",
       "    <tr>\n",
       "      <th>32</th>\n",
       "      <td>Bangladesh</td>\n",
       "      <td>25.8</td>\n",
       "    </tr>\n",
       "    <tr>\n",
       "      <th>80</th>\n",
       "      <td>Chine, continentale</td>\n",
       "      <td>142.4</td>\n",
       "    </tr>\n",
       "    <tr>\n",
       "      <th>122</th>\n",
       "      <td>Éthiopie</td>\n",
       "      <td>27.8</td>\n",
       "    </tr>\n",
       "    <tr>\n",
       "      <th>168</th>\n",
       "      <td>Inde</td>\n",
       "      <td>195.1</td>\n",
       "    </tr>\n",
       "    <tr>\n",
       "      <th>272</th>\n",
       "      <td>Pakistan</td>\n",
       "      <td>37.8</td>\n",
       "    </tr>\n",
       "  </tbody>\n",
       "</table>\n",
       "</div>"
      ],
      "text/plain": [
       "                    zone  nbr pers sous alim en millions\n",
       "32            Bangladesh                            25.8\n",
       "80   Chine, continentale                           142.4\n",
       "122             Éthiopie                            27.8\n",
       "168                 Inde                           195.1\n",
       "272             Pakistan                            37.8"
      ]
     },
     "execution_count": 43,
     "metadata": {},
     "output_type": "execute_result"
    }
   ],
   "source": [
    "# Les pays les plus touchés\n",
    "df_population_sousalim_2013[df_population_sousalim_2013['nbr pers sous alim en millions'] > 20]"
   ]
  },
  {
   "cell_type": "markdown",
   "metadata": {},
   "source": [
    "Etablissez la liste des produits (ainsi que leur code) considérés comme des céréales selon la FAO"
   ]
  },
  {
   "cell_type": "markdown",
   "metadata": {},
   "source": [
    "Dans \"Définitions et standards\" du site de la FAO, les céréales à l'exception de ceux pour produire de la bière sont :\n",
    "\n",
    "2516\tAvoine ; 2511\tBlé ; 2520\tCéréales, Autres ; 2514\tMaïs ; 2517\tMillet ; 2513\tOrge ; 2805\tRiz (Eq Blanchi) ; 2515\tSeigle ; 2518\tSorgho"
   ]
  },
  {
   "cell_type": "code",
   "execution_count": 44,
   "metadata": {},
   "outputs": [
    {
     "data": {
      "text/html": [
       "<div>\n",
       "<style scoped>\n",
       "    .dataframe tbody tr th:only-of-type {\n",
       "        vertical-align: middle;\n",
       "    }\n",
       "\n",
       "    .dataframe tbody tr th {\n",
       "        vertical-align: top;\n",
       "    }\n",
       "\n",
       "    .dataframe thead th {\n",
       "        text-align: right;\n",
       "    }\n",
       "</style>\n",
       "<table border=\"1\" class=\"dataframe\">\n",
       "  <thead>\n",
       "    <tr style=\"text-align: right;\">\n",
       "      <th></th>\n",
       "      <th>pays</th>\n",
       "      <th>produit</th>\n",
       "      <th>milliers de tonnes</th>\n",
       "    </tr>\n",
       "  </thead>\n",
       "  <tbody>\n",
       "    <tr>\n",
       "      <th>8531</th>\n",
       "      <td>Bangladesh</td>\n",
       "      <td>Maïs</td>\n",
       "      <td>1700.0</td>\n",
       "    </tr>\n",
       "    <tr>\n",
       "      <th>82466</th>\n",
       "      <td>République-Unie de Tanzanie</td>\n",
       "      <td>Sorgho</td>\n",
       "      <td>17.0</td>\n",
       "    </tr>\n",
       "    <tr>\n",
       "      <th>10400</th>\n",
       "      <td>Belgique</td>\n",
       "      <td>Céréales, Autres</td>\n",
       "      <td>116.0</td>\n",
       "    </tr>\n",
       "    <tr>\n",
       "      <th>55563</th>\n",
       "      <td>l'ex-République yougoslave de Macédoine</td>\n",
       "      <td>Maïs</td>\n",
       "      <td>132.0</td>\n",
       "    </tr>\n",
       "    <tr>\n",
       "      <th>76740</th>\n",
       "      <td>Philippines</td>\n",
       "      <td>Orge</td>\n",
       "      <td>4.0</td>\n",
       "    </tr>\n",
       "  </tbody>\n",
       "</table>\n",
       "</div>"
      ],
      "text/plain": [
       "                                          pays           produit  \\\n",
       "8531                                Bangladesh              Maïs   \n",
       "82466              République-Unie de Tanzanie            Sorgho   \n",
       "10400                                 Belgique  Céréales, Autres   \n",
       "55563  l'ex-République yougoslave de Macédoine              Maïs   \n",
       "76740                              Philippines              Orge   \n",
       "\n",
       "       milliers de tonnes  \n",
       "8531               1700.0  \n",
       "82466                17.0  \n",
       "10400               116.0  \n",
       "55563               132.0  \n",
       "76740                 4.0  "
      ]
     },
     "execution_count": 44,
     "metadata": {},
     "output_type": "execute_result"
    }
   ],
   "source": [
    "# Les aliments pour animaux ont le code 5521, donc je crée un nouveau dataframe en sélectionnant les céréales\n",
    "# qui sont produits pour les animaux\n",
    "\n",
    "df_alim_cereales =df_bilan_vegetaux_brut[(df_bilan_vegetaux_brut['Code Produit'] == 2516) |\\\n",
    "                                         (df_bilan_vegetaux_brut['Code Produit'] == 2511) |\\\n",
    "                                         (df_bilan_vegetaux_brut['Code Produit'] == 2520) |\\\n",
    "                                         (df_bilan_vegetaux_brut['Code Produit'] == 2514) |\\\n",
    "                                         (df_bilan_vegetaux_brut['Code Produit'] == 2517) |\\\n",
    "                                         (df_bilan_vegetaux_brut['Code Produit'] == 2513) |\\\n",
    "                                         (df_bilan_vegetaux_brut['Code Produit'] == 2805) |\\\n",
    "                                         (df_bilan_vegetaux_brut['Code Produit'] == 2515) |\\\n",
    "                                         (df_bilan_vegetaux_brut['Code Produit'] == 2518)]\n",
    "\n",
    "df_alim_animaux = df_alim_cereales[(df_alim_cereales['Code Élément'] == 5521)]\n",
    "\n",
    "df_alim_animaux = df_alim_animaux[['Pays','Produit','Valeur']]\n",
    "df_alim_animaux.columns = ['pays','produit','milliers de tonnes']\n",
    "df_alim_animaux = df_alim_animaux[df_alim_animaux ['milliers de tonnes'] != 0]\n",
    "df_alim_animaux.sample(5)"
   ]
  },
  {
   "cell_type": "markdown",
   "metadata": {},
   "source": [
    "A l'aide de la table donnant les ratios énergie/poids de chaque aliment (que vous avez établie précédemment), convertir ces données (filtrées) en kcal."
   ]
  },
  {
   "cell_type": "code",
   "execution_count": 45,
   "metadata": {
    "scrolled": true
   },
   "outputs": [
    {
     "data": {
      "text/html": [
       "<div>\n",
       "<style scoped>\n",
       "    .dataframe tbody tr th:only-of-type {\n",
       "        vertical-align: middle;\n",
       "    }\n",
       "\n",
       "    .dataframe tbody tr th {\n",
       "        vertical-align: top;\n",
       "    }\n",
       "\n",
       "    .dataframe thead th {\n",
       "        text-align: right;\n",
       "    }\n",
       "</style>\n",
       "<table border=\"1\" class=\"dataframe\">\n",
       "  <thead>\n",
       "    <tr style=\"text-align: right;\">\n",
       "      <th></th>\n",
       "      <th>pays</th>\n",
       "      <th>produit</th>\n",
       "      <th>milliers de tonnes</th>\n",
       "      <th>groupe</th>\n",
       "      <th>ratio kcal/kg</th>\n",
       "      <th>dispo Kcal</th>\n",
       "    </tr>\n",
       "  </thead>\n",
       "  <tbody>\n",
       "    <tr>\n",
       "      <th>374</th>\n",
       "      <td>Myanmar</td>\n",
       "      <td>Sorgho</td>\n",
       "      <td>118.0</td>\n",
       "      <td>vegetaux</td>\n",
       "      <td>3500.000000</td>\n",
       "      <td>4.130000e+11</td>\n",
       "    </tr>\n",
       "    <tr>\n",
       "      <th>383</th>\n",
       "      <td>Niger</td>\n",
       "      <td>Millet</td>\n",
       "      <td>332.0</td>\n",
       "      <td>vegetaux</td>\n",
       "      <td>2638.996694</td>\n",
       "      <td>8.761469e+11</td>\n",
       "    </tr>\n",
       "    <tr>\n",
       "      <th>184</th>\n",
       "      <td>Fédération de Russie</td>\n",
       "      <td>Seigle</td>\n",
       "      <td>1548.0</td>\n",
       "      <td>vegetaux</td>\n",
       "      <td>2678.899083</td>\n",
       "      <td>4.146936e+12</td>\n",
       "    </tr>\n",
       "    <tr>\n",
       "      <th>74</th>\n",
       "      <td>Bosnie-Herzégovine</td>\n",
       "      <td>Blé</td>\n",
       "      <td>180.0</td>\n",
       "      <td>vegetaux</td>\n",
       "      <td>2898.621206</td>\n",
       "      <td>5.217518e+11</td>\n",
       "    </tr>\n",
       "    <tr>\n",
       "      <th>277</th>\n",
       "      <td>Italie</td>\n",
       "      <td>Avoine</td>\n",
       "      <td>230.0</td>\n",
       "      <td>vegetaux</td>\n",
       "      <td>1216.666667</td>\n",
       "      <td>2.798333e+11</td>\n",
       "    </tr>\n",
       "  </tbody>\n",
       "</table>\n",
       "</div>"
      ],
      "text/plain": [
       "                     pays produit  milliers de tonnes    groupe  \\\n",
       "374               Myanmar  Sorgho               118.0  vegetaux   \n",
       "383                 Niger  Millet               332.0  vegetaux   \n",
       "184  Fédération de Russie  Seigle              1548.0  vegetaux   \n",
       "74     Bosnie-Herzégovine     Blé               180.0  vegetaux   \n",
       "277                Italie  Avoine               230.0  vegetaux   \n",
       "\n",
       "     ratio kcal/kg    dispo Kcal  \n",
       "374    3500.000000  4.130000e+11  \n",
       "383    2638.996694  8.761469e+11  \n",
       "184    2678.899083  4.146936e+12  \n",
       "74     2898.621206  5.217518e+11  \n",
       "277    1216.666667  2.798333e+11  "
      ]
     },
     "execution_count": 45,
     "metadata": {},
     "output_type": "execute_result"
    }
   ],
   "source": [
    "df_alim_animaux_ratio = pd.merge(df_alim_animaux, df_ratio_energie_poids)\n",
    "df_alim_animaux_ratio['dispo Kcal'] = (df_alim_animaux_ratio['milliers de tonnes']*1000000)\\\n",
    "                                                    *(df_alim_animaux_ratio['ratio kcal/kg'])\n",
    "df_alim_animaux_ratio.sample(5)"
   ]
  },
  {
   "cell_type": "markdown",
   "metadata": {},
   "source": [
    "De la même manière que vous avez calculé la table des ratios énergie/poids , calculez les ratios poids de protéines/poids total, puis convertissez ces données (filtrées) en terme de protéines (unité : gramme)."
   ]
  },
  {
   "cell_type": "code",
   "execution_count": 46,
   "metadata": {
    "scrolled": true
   },
   "outputs": [
    {
     "data": {
      "text/html": [
       "<div>\n",
       "<style scoped>\n",
       "    .dataframe tbody tr th:only-of-type {\n",
       "        vertical-align: middle;\n",
       "    }\n",
       "\n",
       "    .dataframe tbody tr th {\n",
       "        vertical-align: top;\n",
       "    }\n",
       "\n",
       "    .dataframe thead th {\n",
       "        text-align: right;\n",
       "    }\n",
       "</style>\n",
       "<table border=\"1\" class=\"dataframe\">\n",
       "  <thead>\n",
       "    <tr style=\"text-align: right;\">\n",
       "      <th></th>\n",
       "      <th>pays</th>\n",
       "      <th>produit</th>\n",
       "      <th>proteine g/pers/jour</th>\n",
       "    </tr>\n",
       "  </thead>\n",
       "  <tbody>\n",
       "    <tr>\n",
       "      <th>37343</th>\n",
       "      <td>Gambie</td>\n",
       "      <td>Pommes de Terre</td>\n",
       "      <td>0.05</td>\n",
       "    </tr>\n",
       "    <tr>\n",
       "      <th>71990</th>\n",
       "      <td>Oman</td>\n",
       "      <td>Légumes, Autres</td>\n",
       "      <td>2.65</td>\n",
       "    </tr>\n",
       "    <tr>\n",
       "      <th>53534</th>\n",
       "      <td>Kirghizistan</td>\n",
       "      <td>Oignons</td>\n",
       "      <td>0.64</td>\n",
       "    </tr>\n",
       "    <tr>\n",
       "      <th>37028</th>\n",
       "      <td>Gabon</td>\n",
       "      <td>Huil Plantes Oleif Autr</td>\n",
       "      <td>0.04</td>\n",
       "    </tr>\n",
       "    <tr>\n",
       "      <th>31569</th>\n",
       "      <td>Espagne</td>\n",
       "      <td>Haricots</td>\n",
       "      <td>0.59</td>\n",
       "    </tr>\n",
       "  </tbody>\n",
       "</table>\n",
       "</div>"
      ],
      "text/plain": [
       "               pays                  produit  proteine g/pers/jour\n",
       "37343        Gambie          Pommes de Terre                  0.05\n",
       "71990          Oman          Légumes, Autres                  2.65\n",
       "53534  Kirghizistan                  Oignons                  0.64\n",
       "37028         Gabon  Huil Plantes Oleif Autr                  0.04\n",
       "31569       Espagne                 Haricots                  0.59"
      ]
     },
     "execution_count": 46,
     "metadata": {},
     "output_type": "execute_result"
    }
   ],
   "source": [
    "# Je crée un dataframe avec la dispo alimentaire de protéines qui est le code 674\n",
    "df_dispo_proteine = df_bilan_complet[(df_bilan_complet['code_element'] == 674)]\n",
    "\n",
    "df_dispo_proteine = df_dispo_proteine[['pays','produit','valeur']]\n",
    "df_dispo_proteine.columns = ['pays','produit','proteine g/pers/jour']\n",
    "\n",
    "df_dispo_proteine = df_dispo_proteine[df_dispo_proteine ['proteine g/pers/jour'] != 0]\n",
    "\n",
    "df_dispo_proteine.sample(5)"
   ]
  },
  {
   "cell_type": "code",
   "execution_count": 47,
   "metadata": {},
   "outputs": [
    {
     "data": {
      "text/html": [
       "<div>\n",
       "<style scoped>\n",
       "    .dataframe tbody tr th:only-of-type {\n",
       "        vertical-align: middle;\n",
       "    }\n",
       "\n",
       "    .dataframe tbody tr th {\n",
       "        vertical-align: top;\n",
       "    }\n",
       "\n",
       "    .dataframe thead th {\n",
       "        text-align: right;\n",
       "    }\n",
       "</style>\n",
       "<table border=\"1\" class=\"dataframe\">\n",
       "  <thead>\n",
       "    <tr style=\"text-align: right;\">\n",
       "      <th></th>\n",
       "      <th>pays</th>\n",
       "      <th>produit</th>\n",
       "      <th>dispo kg/pers/an</th>\n",
       "      <th>groupe</th>\n",
       "    </tr>\n",
       "  </thead>\n",
       "  <tbody>\n",
       "    <tr>\n",
       "      <th>7</th>\n",
       "      <td>Afghanistan</td>\n",
       "      <td>Blé</td>\n",
       "      <td>160.23</td>\n",
       "      <td>vegetaux</td>\n",
       "    </tr>\n",
       "    <tr>\n",
       "      <th>17</th>\n",
       "      <td>Afghanistan</td>\n",
       "      <td>Riz (Eq Blanchi)</td>\n",
       "      <td>13.82</td>\n",
       "      <td>vegetaux</td>\n",
       "    </tr>\n",
       "    <tr>\n",
       "      <th>29</th>\n",
       "      <td>Afghanistan</td>\n",
       "      <td>Orge</td>\n",
       "      <td>2.92</td>\n",
       "      <td>vegetaux</td>\n",
       "    </tr>\n",
       "    <tr>\n",
       "      <th>41</th>\n",
       "      <td>Afghanistan</td>\n",
       "      <td>Maïs</td>\n",
       "      <td>2.50</td>\n",
       "      <td>vegetaux</td>\n",
       "    </tr>\n",
       "    <tr>\n",
       "      <th>50</th>\n",
       "      <td>Afghanistan</td>\n",
       "      <td>Millet</td>\n",
       "      <td>0.40</td>\n",
       "      <td>vegetaux</td>\n",
       "    </tr>\n",
       "  </tbody>\n",
       "</table>\n",
       "</div>"
      ],
      "text/plain": [
       "           pays           produit  dispo kg/pers/an    groupe\n",
       "7   Afghanistan               Blé            160.23  vegetaux\n",
       "17  Afghanistan  Riz (Eq Blanchi)             13.82  vegetaux\n",
       "29  Afghanistan              Orge              2.92  vegetaux\n",
       "41  Afghanistan              Maïs              2.50  vegetaux\n",
       "50  Afghanistan            Millet              0.40  vegetaux"
      ]
     },
     "execution_count": 47,
     "metadata": {},
     "output_type": "execute_result"
    }
   ],
   "source": [
    "#Je reprends mon df de la dispo alimentaire en poids\n",
    "df_dispo_alim_kg.head()"
   ]
  },
  {
   "cell_type": "code",
   "execution_count": 48,
   "metadata": {},
   "outputs": [
    {
     "data": {
      "text/html": [
       "<div>\n",
       "<style scoped>\n",
       "    .dataframe tbody tr th:only-of-type {\n",
       "        vertical-align: middle;\n",
       "    }\n",
       "\n",
       "    .dataframe tbody tr th {\n",
       "        vertical-align: top;\n",
       "    }\n",
       "\n",
       "    .dataframe thead th {\n",
       "        text-align: right;\n",
       "    }\n",
       "</style>\n",
       "<table border=\"1\" class=\"dataframe\">\n",
       "  <thead>\n",
       "    <tr style=\"text-align: right;\">\n",
       "      <th></th>\n",
       "      <th>pays</th>\n",
       "      <th>produit</th>\n",
       "      <th>proteine g/pers/jour</th>\n",
       "      <th>dispo kg/pers/an</th>\n",
       "      <th>groupe</th>\n",
       "    </tr>\n",
       "  </thead>\n",
       "  <tbody>\n",
       "    <tr>\n",
       "      <th>8310</th>\n",
       "      <td>Samoa</td>\n",
       "      <td>Abats Comestible</td>\n",
       "      <td>1.24</td>\n",
       "      <td>2.48</td>\n",
       "      <td>animaux</td>\n",
       "    </tr>\n",
       "  </tbody>\n",
       "</table>\n",
       "</div>"
      ],
      "text/plain": [
       "       pays           produit  proteine g/pers/jour  dispo kg/pers/an   groupe\n",
       "8310  Samoa  Abats Comestible                  1.24              2.48  animaux"
      ]
     },
     "execution_count": 48,
     "metadata": {},
     "output_type": "execute_result"
    }
   ],
   "source": [
    "#Je fais une jointure naturelle\n",
    "df_ratio_proteine_poids = pd.merge(df_dispo_proteine,df_dispo_alim_kg)\n",
    "df_ratio_proteine_poids.sample()"
   ]
  },
  {
   "cell_type": "code",
   "execution_count": 49,
   "metadata": {},
   "outputs": [
    {
     "data": {
      "text/html": [
       "<div>\n",
       "<style scoped>\n",
       "    .dataframe tbody tr th:only-of-type {\n",
       "        vertical-align: middle;\n",
       "    }\n",
       "\n",
       "    .dataframe tbody tr th {\n",
       "        vertical-align: top;\n",
       "    }\n",
       "\n",
       "    .dataframe thead th {\n",
       "        text-align: right;\n",
       "    }\n",
       "</style>\n",
       "<table border=\"1\" class=\"dataframe\">\n",
       "  <thead>\n",
       "    <tr style=\"text-align: right;\">\n",
       "      <th></th>\n",
       "      <th>pays</th>\n",
       "      <th>produit</th>\n",
       "      <th>proteine g/pers/jour</th>\n",
       "      <th>dispo kg/pers/an</th>\n",
       "      <th>groupe</th>\n",
       "      <th>ratio_proteine_par_g</th>\n",
       "    </tr>\n",
       "  </thead>\n",
       "  <tbody>\n",
       "    <tr>\n",
       "      <th>2030</th>\n",
       "      <td>Fédération de Russie</td>\n",
       "      <td>Aliments pour enfants</td>\n",
       "      <td>0.09</td>\n",
       "      <td>0.22</td>\n",
       "      <td>vegetaux</td>\n",
       "      <td>0.149318</td>\n",
       "    </tr>\n",
       "  </tbody>\n",
       "</table>\n",
       "</div>"
      ],
      "text/plain": [
       "                      pays                produit  proteine g/pers/jour  \\\n",
       "2030  Fédération de Russie  Aliments pour enfants                  0.09   \n",
       "\n",
       "      dispo kg/pers/an    groupe  ratio_proteine_par_g  \n",
       "2030              0.22  vegetaux              0.149318  "
      ]
     },
     "execution_count": 49,
     "metadata": {},
     "output_type": "execute_result"
    }
   ],
   "source": [
    "#je crée une nouvelle colonne pour créer ce ratio proteine/poids total et nettoie le dataframe\n",
    "df_ratio_proteine_poids['ratio_proteine_par_g'] = (df_ratio_proteine_poids['proteine g/pers/jour'])/((df_ratio_proteine_poids['dispo kg/pers/an'])*1000/365)\n",
    "df_ratio_proteine_poids.sample()"
   ]
  },
  {
   "cell_type": "code",
   "execution_count": 50,
   "metadata": {
    "scrolled": true
   },
   "outputs": [
    {
     "data": {
      "text/html": [
       "<div>\n",
       "<style scoped>\n",
       "    .dataframe tbody tr th:only-of-type {\n",
       "        vertical-align: middle;\n",
       "    }\n",
       "\n",
       "    .dataframe tbody tr th {\n",
       "        vertical-align: top;\n",
       "    }\n",
       "\n",
       "    .dataframe thead th {\n",
       "        text-align: right;\n",
       "    }\n",
       "</style>\n",
       "<table border=\"1\" class=\"dataframe\">\n",
       "  <thead>\n",
       "    <tr style=\"text-align: right;\">\n",
       "      <th></th>\n",
       "      <th>pays</th>\n",
       "      <th>produit</th>\n",
       "      <th>ratio_proteine_par_g</th>\n",
       "      <th>groupe</th>\n",
       "    </tr>\n",
       "  </thead>\n",
       "  <tbody>\n",
       "    <tr>\n",
       "      <th>4707</th>\n",
       "      <td>République démocratique populaire lao</td>\n",
       "      <td>Patates douces</td>\n",
       "      <td>0.008777</td>\n",
       "      <td>vegetaux</td>\n",
       "    </tr>\n",
       "  </tbody>\n",
       "</table>\n",
       "</div>"
      ],
      "text/plain": [
       "                                       pays         produit  \\\n",
       "4707  République démocratique populaire lao  Patates douces   \n",
       "\n",
       "      ratio_proteine_par_g    groupe  \n",
       "4707              0.008777  vegetaux  "
      ]
     },
     "execution_count": 50,
     "metadata": {},
     "output_type": "execute_result"
    }
   ],
   "source": [
    "df_ratio_proteine_poids = df_ratio_proteine_poids[['pays','produit','ratio_proteine_par_g','groupe']]\n",
    "df_ratio_proteine_poids = df_ratio_proteine_poids[df_ratio_proteine_poids['ratio_proteine_par_g'] != 0]\n",
    "df_ratio_proteine_poids.sample()"
   ]
  },
  {
   "cell_type": "code",
   "execution_count": 51,
   "metadata": {},
   "outputs": [
    {
     "data": {
      "text/plain": [
       "produit\n",
       "Mollusques, Autres    0.029244\n",
       "Name: ratio_proteine_par_g, dtype: float64"
      ]
     },
     "execution_count": 51,
     "metadata": {},
     "output_type": "execute_result"
    }
   ],
   "source": [
    "# Je calcule la moyenne par produit, donc pour 1g de produit nous avons le nombre de protéine\n",
    "df_ratio_proteine_poids_total = df_ratio_proteine_poids.groupby('produit')['ratio_proteine_par_g'].mean()\n",
    "df_ratio_proteine_poids_total.sample()"
   ]
  },
  {
   "cell_type": "code",
   "execution_count": 52,
   "metadata": {},
   "outputs": [
    {
     "data": {
      "text/plain": [
       "produit\n",
       "Graines Colza/Moutarde    0.365\n",
       "Soja                      0.273\n",
       "Arachides Decortiquees    0.251\n",
       "Pois                      0.224\n",
       "Légumineuses Autres       0.223\n",
       "Name: ratio_proteine_par_g, dtype: float64"
      ]
     },
     "execution_count": 52,
     "metadata": {},
     "output_type": "execute_result"
    }
   ],
   "source": [
    "# Les 5 produits les intéressants en terme de proteines\n",
    "round(df_ratio_proteine_poids_total.nlargest(5),3)"
   ]
  },
  {
   "cell_type": "markdown",
   "metadata": {},
   "source": [
    "<B>Quelle proportion (en terme de poids) de la disponibilité mondiale de céréales est destinée à l'alimentation animale ? <B/>"
   ]
  },
  {
   "cell_type": "code",
   "execution_count": 53,
   "metadata": {},
   "outputs": [
    {
     "data": {
      "text/html": [
       "<div>\n",
       "<style scoped>\n",
       "    .dataframe tbody tr th:only-of-type {\n",
       "        vertical-align: middle;\n",
       "    }\n",
       "\n",
       "    .dataframe tbody tr th {\n",
       "        vertical-align: top;\n",
       "    }\n",
       "\n",
       "    .dataframe thead th {\n",
       "        text-align: right;\n",
       "    }\n",
       "</style>\n",
       "<table border=\"1\" class=\"dataframe\">\n",
       "  <thead>\n",
       "    <tr style=\"text-align: right;\">\n",
       "      <th></th>\n",
       "      <th>pays</th>\n",
       "      <th>produit</th>\n",
       "      <th>dispo_interieur_milliers_de_tonnes</th>\n",
       "    </tr>\n",
       "  </thead>\n",
       "  <tbody>\n",
       "    <tr>\n",
       "      <th>40279</th>\n",
       "      <td>Guatemala</td>\n",
       "      <td>Millet</td>\n",
       "      <td>1.0</td>\n",
       "    </tr>\n",
       "  </tbody>\n",
       "</table>\n",
       "</div>"
      ],
      "text/plain": [
       "            pays produit  dispo_interieur_milliers_de_tonnes\n",
       "40279  Guatemala  Millet                                 1.0"
      ]
     },
     "execution_count": 53,
     "metadata": {},
     "output_type": "execute_result"
    }
   ],
   "source": [
    "#Il me faut un nouveau dataframe avec la dispo interieure des cereales\n",
    "df_dispo_interieur_cereales = df_alim_cereales[(df_alim_cereales['Code Élément'] == 5301)]\n",
    "df_dispo_interieur_cereales = df_dispo_interieur_cereales[['Pays','Produit','Valeur']]\n",
    "df_dispo_interieur_cereales.columns = ['pays','produit','dispo_interieur_milliers_de_tonnes']\n",
    "df_dispo_interieur_cereales = df_dispo_interieur_cereales[df_dispo_interieur_cereales['dispo_interieur_milliers_de_tonnes'] != 0]\n",
    "df_dispo_interieur_cereales.sample()"
   ]
  },
  {
   "cell_type": "code",
   "execution_count": 54,
   "metadata": {},
   "outputs": [
    {
     "name": "stdout",
     "output_type": "stream",
     "text": [
      "36.3 pourcent de la disponibilité mondiale de céréales est destinée à l'alimentation animale\n"
     ]
    }
   ],
   "source": [
    "print(round((df_alim_animaux['milliers de tonnes'].sum()*100)/\\\n",
    "            (df_dispo_interieur_cereales[\"dispo_interieur_milliers_de_tonnes\"].sum()),1),\\\n",
    "      \"pourcent de la disponibilité mondiale de céréales est destinée à l'alimentation animale\")\n"
   ]
  },
  {
   "cell_type": "markdown",
   "metadata": {},
   "source": [
    "Avec l'aide des tables énergie/poids et poids de protéines/poids total, calculez la disponibilité mondiale totale de produit animaux, que vous exprimerez en kcal et en grammes de protéines."
   ]
  },
  {
   "cell_type": "code",
   "execution_count": 55,
   "metadata": {
    "scrolled": false
   },
   "outputs": [
    {
     "data": {
      "text/html": [
       "<div>\n",
       "<style scoped>\n",
       "    .dataframe tbody tr th:only-of-type {\n",
       "        vertical-align: middle;\n",
       "    }\n",
       "\n",
       "    .dataframe tbody tr th {\n",
       "        vertical-align: top;\n",
       "    }\n",
       "\n",
       "    .dataframe thead th {\n",
       "        text-align: right;\n",
       "    }\n",
       "</style>\n",
       "<table border=\"1\" class=\"dataframe\">\n",
       "  <thead>\n",
       "    <tr style=\"text-align: right;\">\n",
       "      <th></th>\n",
       "      <th>pays</th>\n",
       "      <th>produit</th>\n",
       "      <th>dispo kg/pers/an</th>\n",
       "      <th>groupe</th>\n",
       "    </tr>\n",
       "  </thead>\n",
       "  <tbody>\n",
       "    <tr>\n",
       "      <th>8148</th>\n",
       "      <td>Bahamas</td>\n",
       "      <td>Coco (Incl Coprah)</td>\n",
       "      <td>7.98</td>\n",
       "      <td>vegetaux</td>\n",
       "    </tr>\n",
       "  </tbody>\n",
       "</table>\n",
       "</div>"
      ],
      "text/plain": [
       "         pays             produit  dispo kg/pers/an    groupe\n",
       "8148  Bahamas  Coco (Incl Coprah)              7.98  vegetaux"
      ]
     },
     "execution_count": 55,
     "metadata": {},
     "output_type": "execute_result"
    }
   ],
   "source": [
    "# Je crée un dataframe de la dispo mondiale de produit animaux en kg en reprenant mon datataframe df_dispo_alim_kg\n",
    "df_dispo_alim_kg.sample()"
   ]
  },
  {
   "cell_type": "code",
   "execution_count": 56,
   "metadata": {},
   "outputs": [
    {
     "data": {
      "text/html": [
       "<div>\n",
       "<style scoped>\n",
       "    .dataframe tbody tr th:only-of-type {\n",
       "        vertical-align: middle;\n",
       "    }\n",
       "\n",
       "    .dataframe tbody tr th {\n",
       "        vertical-align: top;\n",
       "    }\n",
       "\n",
       "    .dataframe thead th {\n",
       "        text-align: right;\n",
       "    }\n",
       "</style>\n",
       "<table border=\"1\" class=\"dataframe\">\n",
       "  <thead>\n",
       "    <tr style=\"text-align: right;\">\n",
       "      <th></th>\n",
       "      <th>pays</th>\n",
       "      <th>produit</th>\n",
       "      <th>dispo kg/pers/an</th>\n",
       "      <th>groupe</th>\n",
       "    </tr>\n",
       "  </thead>\n",
       "  <tbody>\n",
       "    <tr>\n",
       "      <th>30582</th>\n",
       "      <td>Saint-Vincent-et-les Grenadines</td>\n",
       "      <td>Mollusques, Autres</td>\n",
       "      <td>1.04</td>\n",
       "      <td>animaux</td>\n",
       "    </tr>\n",
       "  </tbody>\n",
       "</table>\n",
       "</div>"
      ],
      "text/plain": [
       "                                  pays             produit  dispo kg/pers/an  \\\n",
       "30582  Saint-Vincent-et-les Grenadines  Mollusques, Autres              1.04   \n",
       "\n",
       "        groupe  \n",
       "30582  animaux  "
      ]
     },
     "execution_count": 56,
     "metadata": {},
     "output_type": "execute_result"
    }
   ],
   "source": [
    "df_dispo_animaux = df_dispo_alim_kg[df_dispo_alim_kg['groupe'] == 'animaux' ]\n",
    "df_dispo_animaux.sample()\n",
    "\n",
    "# Je joins la table protéine/poids"
   ]
  },
  {
   "cell_type": "code",
   "execution_count": 57,
   "metadata": {},
   "outputs": [
    {
     "data": {
      "text/html": [
       "<div>\n",
       "<style scoped>\n",
       "    .dataframe tbody tr th:only-of-type {\n",
       "        vertical-align: middle;\n",
       "    }\n",
       "\n",
       "    .dataframe tbody tr th {\n",
       "        vertical-align: top;\n",
       "    }\n",
       "\n",
       "    .dataframe thead th {\n",
       "        text-align: right;\n",
       "    }\n",
       "</style>\n",
       "<table border=\"1\" class=\"dataframe\">\n",
       "  <thead>\n",
       "    <tr style=\"text-align: right;\">\n",
       "      <th></th>\n",
       "      <th>pays</th>\n",
       "      <th>produit</th>\n",
       "      <th>dispo kg/pers/an</th>\n",
       "      <th>groupe</th>\n",
       "      <th>unite</th>\n",
       "      <th>valeur</th>\n",
       "      <th>dispo_totale_kg</th>\n",
       "    </tr>\n",
       "  </thead>\n",
       "  <tbody>\n",
       "    <tr>\n",
       "      <th>1527</th>\n",
       "      <td>Hongrie</td>\n",
       "      <td>Crème</td>\n",
       "      <td>6.57</td>\n",
       "      <td>animaux</td>\n",
       "      <td>1000 personnes</td>\n",
       "      <td>9955</td>\n",
       "      <td>65404350.0</td>\n",
       "    </tr>\n",
       "  </tbody>\n",
       "</table>\n",
       "</div>"
      ],
      "text/plain": [
       "         pays produit  dispo kg/pers/an   groupe           unite  valeur  \\\n",
       "1527  Hongrie   Crème              6.57  animaux  1000 personnes    9955   \n",
       "\n",
       "      dispo_totale_kg  \n",
       "1527       65404350.0  "
      ]
     },
     "execution_count": 57,
     "metadata": {},
     "output_type": "execute_result"
    }
   ],
   "source": [
    "#Je joins la population pour calculer le poids total dispo\n",
    "\n",
    "df_dispo_animaux = pd.merge(df_dispo_animaux,df_population)\n",
    "df_dispo_animaux['dispo_totale_kg'] = (df_dispo_animaux['dispo kg/pers/an'])*((df_dispo_animaux['valeur'])*1000)\n",
    "df_dispo_animaux.sample()"
   ]
  },
  {
   "cell_type": "code",
   "execution_count": 58,
   "metadata": {},
   "outputs": [
    {
     "data": {
      "text/html": [
       "<div>\n",
       "<style scoped>\n",
       "    .dataframe tbody tr th:only-of-type {\n",
       "        vertical-align: middle;\n",
       "    }\n",
       "\n",
       "    .dataframe tbody tr th {\n",
       "        vertical-align: top;\n",
       "    }\n",
       "\n",
       "    .dataframe thead th {\n",
       "        text-align: right;\n",
       "    }\n",
       "</style>\n",
       "<table border=\"1\" class=\"dataframe\">\n",
       "  <thead>\n",
       "    <tr style=\"text-align: right;\">\n",
       "      <th></th>\n",
       "      <th>pays</th>\n",
       "      <th>produit</th>\n",
       "      <th>dispo kg/pers/an</th>\n",
       "      <th>groupe</th>\n",
       "      <th>unite</th>\n",
       "      <th>valeur</th>\n",
       "      <th>dispo_totale_kg</th>\n",
       "      <th>ratio kcal/kg</th>\n",
       "      <th>ratio_proteine_par_g</th>\n",
       "    </tr>\n",
       "  </thead>\n",
       "  <tbody>\n",
       "    <tr>\n",
       "      <th>1305</th>\n",
       "      <td>Libéria</td>\n",
       "      <td>Poissons Pelagiques</td>\n",
       "      <td>1.65</td>\n",
       "      <td>animaux</td>\n",
       "      <td>1000 personnes</td>\n",
       "      <td>4294</td>\n",
       "      <td>7085100.0</td>\n",
       "      <td>884.848485</td>\n",
       "      <td>0.112818</td>\n",
       "    </tr>\n",
       "  </tbody>\n",
       "</table>\n",
       "</div>"
      ],
      "text/plain": [
       "         pays              produit  dispo kg/pers/an   groupe           unite  \\\n",
       "1305  Libéria  Poissons Pelagiques              1.65  animaux  1000 personnes   \n",
       "\n",
       "      valeur  dispo_totale_kg  ratio kcal/kg  ratio_proteine_par_g  \n",
       "1305    4294        7085100.0     884.848485              0.112818  "
      ]
     },
     "execution_count": 58,
     "metadata": {},
     "output_type": "execute_result"
    }
   ],
   "source": [
    "# je fais une jointure avec les df energie/poids et protéines/poids\n",
    "df_dispo_animaux_kcal_proteines = pd.merge(df_dispo_animaux, df_ratio_energie_poids)\n",
    "df_dispo_animaux_kcal_proteines = pd.merge(df_dispo_animaux_kcal_proteines, df_ratio_proteine_poids)\n",
    "df_dispo_animaux_kcal_proteines.sample()"
   ]
  },
  {
   "cell_type": "code",
   "execution_count": 59,
   "metadata": {},
   "outputs": [
    {
     "data": {
      "text/html": [
       "<div>\n",
       "<style scoped>\n",
       "    .dataframe tbody tr th:only-of-type {\n",
       "        vertical-align: middle;\n",
       "    }\n",
       "\n",
       "    .dataframe tbody tr th {\n",
       "        vertical-align: top;\n",
       "    }\n",
       "\n",
       "    .dataframe thead th {\n",
       "        text-align: right;\n",
       "    }\n",
       "</style>\n",
       "<table border=\"1\" class=\"dataframe\">\n",
       "  <thead>\n",
       "    <tr style=\"text-align: right;\">\n",
       "      <th></th>\n",
       "      <th>pays</th>\n",
       "      <th>produit</th>\n",
       "      <th>dispo kg/pers/an</th>\n",
       "      <th>groupe</th>\n",
       "      <th>unite</th>\n",
       "      <th>valeur</th>\n",
       "      <th>dispo_totale_kg</th>\n",
       "      <th>ratio kcal/kg</th>\n",
       "      <th>ratio_proteine_par_g</th>\n",
       "      <th>dispo_totale_kcal</th>\n",
       "      <th>dispo_totale_proteine_g</th>\n",
       "    </tr>\n",
       "  </thead>\n",
       "  <tbody>\n",
       "    <tr>\n",
       "      <th>26</th>\n",
       "      <td>Albanie</td>\n",
       "      <td>Beurre, Ghee</td>\n",
       "      <td>1.19</td>\n",
       "      <td>animaux</td>\n",
       "      <td>1000 personnes</td>\n",
       "      <td>3173</td>\n",
       "      <td>3775870.0</td>\n",
       "      <td>7054.621849</td>\n",
       "      <td>0.009202</td>\n",
       "      <td>2.663734e+10</td>\n",
       "      <td>34744350.0</td>\n",
       "    </tr>\n",
       "  </tbody>\n",
       "</table>\n",
       "</div>"
      ],
      "text/plain": [
       "       pays       produit  dispo kg/pers/an   groupe           unite  valeur  \\\n",
       "26  Albanie  Beurre, Ghee              1.19  animaux  1000 personnes    3173   \n",
       "\n",
       "    dispo_totale_kg  ratio kcal/kg  ratio_proteine_par_g  dispo_totale_kcal  \\\n",
       "26        3775870.0    7054.621849              0.009202       2.663734e+10   \n",
       "\n",
       "    dispo_totale_proteine_g  \n",
       "26               34744350.0  "
      ]
     },
     "execution_count": 59,
     "metadata": {},
     "output_type": "execute_result"
    }
   ],
   "source": [
    "# Je créé les nouvelles colonnes disponibilités\n",
    "df_dispo_animaux_kcal_proteines['dispo_totale_kcal'] = (df_dispo_animaux_kcal_proteines['dispo_totale_kg'])*(df_dispo_animaux_kcal_proteines['ratio kcal/kg'])\n",
    "df_dispo_animaux_kcal_proteines['dispo_totale_proteine_g'] = ((df_dispo_animaux_kcal_proteines['dispo_totale_kg'])*1000)*(df_dispo_animaux_kcal_proteines['ratio_proteine_par_g'])\n",
    "df_dispo_animaux_kcal_proteines.sample()"
   ]
  },
  {
   "cell_type": "code",
   "execution_count": 60,
   "metadata": {},
   "outputs": [
    {
     "data": {
      "text/html": [
       "<div>\n",
       "<style scoped>\n",
       "    .dataframe tbody tr th:only-of-type {\n",
       "        vertical-align: middle;\n",
       "    }\n",
       "\n",
       "    .dataframe tbody tr th {\n",
       "        vertical-align: top;\n",
       "    }\n",
       "\n",
       "    .dataframe thead th {\n",
       "        text-align: right;\n",
       "    }\n",
       "</style>\n",
       "<table border=\"1\" class=\"dataframe\">\n",
       "  <thead>\n",
       "    <tr style=\"text-align: right;\">\n",
       "      <th></th>\n",
       "      <th>pays</th>\n",
       "      <th>produit</th>\n",
       "      <th>dispo kg/pers/an</th>\n",
       "      <th>dispo_totale_kcal</th>\n",
       "      <th>dispo_totale_proteine_g</th>\n",
       "      <th>groupe</th>\n",
       "    </tr>\n",
       "  </thead>\n",
       "  <tbody>\n",
       "    <tr>\n",
       "      <th>1420</th>\n",
       "      <td>Malte</td>\n",
       "      <td>Mollusques, Autres</td>\n",
       "      <td>4.76</td>\n",
       "      <td>313170000.0</td>\n",
       "      <td>56370600.0</td>\n",
       "      <td>animaux</td>\n",
       "    </tr>\n",
       "  </tbody>\n",
       "</table>\n",
       "</div>"
      ],
      "text/plain": [
       "       pays             produit  dispo kg/pers/an  dispo_totale_kcal  \\\n",
       "1420  Malte  Mollusques, Autres              4.76        313170000.0   \n",
       "\n",
       "      dispo_totale_proteine_g   groupe  \n",
       "1420               56370600.0  animaux  "
      ]
     },
     "execution_count": 60,
     "metadata": {},
     "output_type": "execute_result"
    }
   ],
   "source": [
    "df_dispo_animaux_kcal_proteines = df_dispo_animaux_kcal_proteines[['pays','produit','dispo kg/pers/an','dispo_totale_kcal','dispo_totale_proteine_g','groupe']]\n",
    "df_dispo_animaux_kcal_proteines = df_dispo_animaux_kcal_proteines[df_dispo_animaux_kcal_proteines['dispo_totale_kcal'] != 0]\n",
    "df_dispo_animaux_kcal_proteines = df_dispo_animaux_kcal_proteines[df_dispo_animaux_kcal_proteines['dispo_totale_proteine_g'] != 0]\n",
    "df_dispo_animaux_kcal_proteines.sample()"
   ]
  },
  {
   "cell_type": "code",
   "execution_count": 61,
   "metadata": {},
   "outputs": [
    {
     "name": "stdout",
     "output_type": "stream",
     "text": [
      "1279.5 billions de Kg disponibles mondialement\n",
      "81.9 billions de grammes proteines disponibles mondialement\n"
     ]
    }
   ],
   "source": [
    "print(round((df_dispo_animaux_kcal_proteines['dispo_totale_kcal'].sum()/1000000000000),1),\"billions de Kg disponibles mondialement\")\n",
    "print(round((df_dispo_animaux_kcal_proteines['dispo_totale_proteine_g'].sum()/1000000000000),1),\"billions de grammes proteines disponibles mondialement\")"
   ]
  },
  {
   "cell_type": "markdown",
   "metadata": {},
   "source": [
    "Calculez les 3 valeurs du ratio suivant, lorsque les quantités sont exprimées en kg, puis en kcal, puis en grammes de protéines :\n",
    "Disponibilité de céréales destinée à l'alimentation animale / Disponibilité animale destinée à l'alimentation humaine"
   ]
  },
  {
   "cell_type": "code",
   "execution_count": 62,
   "metadata": {},
   "outputs": [
    {
     "data": {
      "text/html": [
       "<div>\n",
       "<style scoped>\n",
       "    .dataframe tbody tr th:only-of-type {\n",
       "        vertical-align: middle;\n",
       "    }\n",
       "\n",
       "    .dataframe tbody tr th {\n",
       "        vertical-align: top;\n",
       "    }\n",
       "\n",
       "    .dataframe thead th {\n",
       "        text-align: right;\n",
       "    }\n",
       "</style>\n",
       "<table border=\"1\" class=\"dataframe\">\n",
       "  <thead>\n",
       "    <tr style=\"text-align: right;\">\n",
       "      <th></th>\n",
       "      <th>pays</th>\n",
       "      <th>produit</th>\n",
       "      <th>dispo_en_kg</th>\n",
       "      <th>dispo_en_kcal</th>\n",
       "      <th>dispo_en_g_proteine</th>\n",
       "      <th>groupe</th>\n",
       "    </tr>\n",
       "  </thead>\n",
       "  <tbody>\n",
       "    <tr>\n",
       "      <th>0</th>\n",
       "      <td>Afghanistan</td>\n",
       "      <td>Orge</td>\n",
       "      <td>3.600000e+08</td>\n",
       "      <td>1.170000e+12</td>\n",
       "      <td>3.555000e+10</td>\n",
       "      <td>vegetaux</td>\n",
       "    </tr>\n",
       "    <tr>\n",
       "      <th>1</th>\n",
       "      <td>Afghanistan</td>\n",
       "      <td>Maïs</td>\n",
       "      <td>2.000000e+08</td>\n",
       "      <td>6.132000e+11</td>\n",
       "      <td>1.635200e+10</td>\n",
       "      <td>vegetaux</td>\n",
       "    </tr>\n",
       "    <tr>\n",
       "      <th>2</th>\n",
       "      <td>Afrique du Sud</td>\n",
       "      <td>Blé</td>\n",
       "      <td>3.700000e+07</td>\n",
       "      <td>1.105016e+11</td>\n",
       "      <td>3.458789e+09</td>\n",
       "      <td>vegetaux</td>\n",
       "    </tr>\n",
       "    <tr>\n",
       "      <th>3</th>\n",
       "      <td>Afrique du Sud</td>\n",
       "      <td>Orge</td>\n",
       "      <td>1.900000e+07</td>\n",
       "      <td>7.705556e+10</td>\n",
       "      <td>7.705556e+08</td>\n",
       "      <td>vegetaux</td>\n",
       "    </tr>\n",
       "    <tr>\n",
       "      <th>4</th>\n",
       "      <td>Afrique du Sud</td>\n",
       "      <td>Maïs</td>\n",
       "      <td>4.715000e+09</td>\n",
       "      <td>1.475121e+13</td>\n",
       "      <td>3.766889e+11</td>\n",
       "      <td>vegetaux</td>\n",
       "    </tr>\n",
       "  </tbody>\n",
       "</table>\n",
       "</div>"
      ],
      "text/plain": [
       "             pays produit   dispo_en_kg  dispo_en_kcal  dispo_en_g_proteine  \\\n",
       "0     Afghanistan    Orge  3.600000e+08   1.170000e+12         3.555000e+10   \n",
       "1     Afghanistan    Maïs  2.000000e+08   6.132000e+11         1.635200e+10   \n",
       "2  Afrique du Sud     Blé  3.700000e+07   1.105016e+11         3.458789e+09   \n",
       "3  Afrique du Sud    Orge  1.900000e+07   7.705556e+10         7.705556e+08   \n",
       "4  Afrique du Sud    Maïs  4.715000e+09   1.475121e+13         3.766889e+11   \n",
       "\n",
       "     groupe  \n",
       "0  vegetaux  \n",
       "1  vegetaux  \n",
       "2  vegetaux  \n",
       "3  vegetaux  \n",
       "4  vegetaux  "
      ]
     },
     "execution_count": 62,
     "metadata": {},
     "output_type": "execute_result"
    }
   ],
   "source": [
    "#Je crée un nouveaux dataframe pour l'alimentation des animaux avec \n",
    "#une colonne dispo kg, dispo kcal et dispo protéine\n",
    "df_dispo_alim_animale = pd.merge(df_alim_animaux,df_ratio_energie_poids )\n",
    "df_dispo_alim_animale = pd.merge(df_dispo_alim_animale,df_ratio_proteine_poids)\n",
    "df_dispo_alim_animale['dispo_en_kg'] = df_dispo_alim_animale['milliers de tonnes']*1000000\n",
    "df_dispo_alim_animale['dispo_en_kcal'] = df_dispo_alim_animale['dispo_en_kg']*df_dispo_alim_animale['ratio kcal/kg']\n",
    "df_dispo_alim_animale['dispo_en_g_proteine'] = (df_dispo_alim_animale['dispo_en_kg']*1000)*df_dispo_alim_animale['ratio_proteine_par_g']\n",
    "df_dispo_alim_animale = df_dispo_alim_animale[['pays','produit','dispo_en_kg','dispo_en_kcal','dispo_en_g_proteine','groupe']]\n",
    "df_dispo_alim_animale.head()"
   ]
  },
  {
   "cell_type": "code",
   "execution_count": 63,
   "metadata": {
    "scrolled": true
   },
   "outputs": [
    {
     "data": {
      "text/html": [
       "<div>\n",
       "<style scoped>\n",
       "    .dataframe tbody tr th:only-of-type {\n",
       "        vertical-align: middle;\n",
       "    }\n",
       "\n",
       "    .dataframe tbody tr th {\n",
       "        vertical-align: top;\n",
       "    }\n",
       "\n",
       "    .dataframe thead th {\n",
       "        text-align: right;\n",
       "    }\n",
       "</style>\n",
       "<table border=\"1\" class=\"dataframe\">\n",
       "  <thead>\n",
       "    <tr style=\"text-align: right;\">\n",
       "      <th></th>\n",
       "      <th>pays</th>\n",
       "      <th>produit</th>\n",
       "      <th>dispo_en_kg</th>\n",
       "      <th>dispo_en_kcal</th>\n",
       "      <th>dispo_en_g_proteine</th>\n",
       "      <th>groupe</th>\n",
       "    </tr>\n",
       "  </thead>\n",
       "  <tbody>\n",
       "    <tr>\n",
       "      <th>0</th>\n",
       "      <td>Afghanistan</td>\n",
       "      <td>Viande de Bovins</td>\n",
       "      <td>140233680.0</td>\n",
       "      <td>3.010900e+11</td>\n",
       "      <td>2.107630e+10</td>\n",
       "      <td>animaux</td>\n",
       "    </tr>\n",
       "    <tr>\n",
       "      <th>1</th>\n",
       "      <td>Afghanistan</td>\n",
       "      <td>Viande d'Ovins/Caprins</td>\n",
       "      <td>150315840.0</td>\n",
       "      <td>3.456959e+11</td>\n",
       "      <td>2.129933e+10</td>\n",
       "      <td>animaux</td>\n",
       "    </tr>\n",
       "    <tr>\n",
       "      <th>2</th>\n",
       "      <td>Afghanistan</td>\n",
       "      <td>Viande de Volailles</td>\n",
       "      <td>74852400.0</td>\n",
       "      <td>1.003633e+11</td>\n",
       "      <td>9.701788e+09</td>\n",
       "      <td>animaux</td>\n",
       "    </tr>\n",
       "    <tr>\n",
       "      <th>3</th>\n",
       "      <td>Afghanistan</td>\n",
       "      <td>Viande, Autre</td>\n",
       "      <td>11609760.0</td>\n",
       "      <td>1.115148e+10</td>\n",
       "      <td>1.895752e+09</td>\n",
       "      <td>animaux</td>\n",
       "    </tr>\n",
       "    <tr>\n",
       "      <th>4</th>\n",
       "      <td>Afghanistan</td>\n",
       "      <td>Abats Comestible</td>\n",
       "      <td>52549440.0</td>\n",
       "      <td>5.575740e+10</td>\n",
       "      <td>8.586640e+09</td>\n",
       "      <td>animaux</td>\n",
       "    </tr>\n",
       "  </tbody>\n",
       "</table>\n",
       "</div>"
      ],
      "text/plain": [
       "          pays                 produit  dispo_en_kg  dispo_en_kcal  \\\n",
       "0  Afghanistan        Viande de Bovins  140233680.0   3.010900e+11   \n",
       "1  Afghanistan  Viande d'Ovins/Caprins  150315840.0   3.456959e+11   \n",
       "2  Afghanistan     Viande de Volailles   74852400.0   1.003633e+11   \n",
       "3  Afghanistan           Viande, Autre   11609760.0   1.115148e+10   \n",
       "4  Afghanistan        Abats Comestible   52549440.0   5.575740e+10   \n",
       "\n",
       "   dispo_en_g_proteine   groupe  \n",
       "0         2.107630e+10  animaux  \n",
       "1         2.129933e+10  animaux  \n",
       "2         9.701788e+09  animaux  \n",
       "3         1.895752e+09  animaux  \n",
       "4         8.586640e+09  animaux  "
      ]
     },
     "execution_count": 63,
     "metadata": {},
     "output_type": "execute_result"
    }
   ],
   "source": [
    "#Je crée un nouveaux dataframe pour la disponibilité animale pour alimentation humaine avec \n",
    "#une colonne dispo kg, dispo kcal et dispo protéine\n",
    "df_dispo_alim_humaine = pd.merge(df_dispo_animaux,df_ratio_energie_poids )\n",
    "df_dispo_alim_humaine = pd.merge(df_dispo_alim_humaine,df_ratio_proteine_poids)\n",
    "df_dispo_alim_humaine['dispo_en_kg'] = df_dispo_alim_humaine['dispo_totale_kg']\n",
    "df_dispo_alim_humaine['dispo_en_kcal'] = df_dispo_alim_humaine['dispo_en_kg']*df_dispo_alim_humaine['ratio kcal/kg']\n",
    "df_dispo_alim_humaine['dispo_en_g_proteine'] = (df_dispo_alim_humaine['dispo_en_kg']*1000)*df_dispo_alim_humaine['ratio_proteine_par_g']\n",
    "df_dispo_alim_humaine = df_dispo_alim_humaine[['pays','produit','dispo_en_kg','dispo_en_kcal','dispo_en_g_proteine','groupe']]\n",
    "df_dispo_alim_humaine.head()"
   ]
  },
  {
   "cell_type": "code",
   "execution_count": 64,
   "metadata": {},
   "outputs": [
    {
     "name": "stdout",
     "output_type": "stream",
     "text": [
      "pour 1 Kg de céréales destinée à l'alimentation animale, il y a 1.4 Kg de disponibilité animale destinée à l'alimentation humaine\n"
     ]
    }
   ],
   "source": [
    "print(\"pour 1 Kg de céréales destinée à l'alimentation animale, il y a\",round(df_dispo_alim_humaine['dispo_en_kg'].sum()/df_dispo_alim_animale['dispo_en_kg'].sum(),1),\"Kg de disponibilité animale destinée à l'alimentation humaine\")"
   ]
  },
  {
   "cell_type": "code",
   "execution_count": 65,
   "metadata": {},
   "outputs": [
    {
     "name": "stdout",
     "output_type": "stream",
     "text": [
      "pour 1 Kcal de céréales destinée à l'alimentation animale, il y a 0.5 Kcal de disponibilité animale destinée à l'alimentation humaine\n"
     ]
    }
   ],
   "source": [
    "print(\"pour 1 Kcal de céréales destinée à l'alimentation animale, il y a\",round(df_dispo_alim_humaine['dispo_en_kcal'].sum()/df_dispo_alim_animale['dispo_en_kcal'].sum(),1),\"Kcal de disponibilité animale destinée à l'alimentation humaine\")"
   ]
  },
  {
   "cell_type": "code",
   "execution_count": 66,
   "metadata": {},
   "outputs": [
    {
     "name": "stdout",
     "output_type": "stream",
     "text": [
      "pour 1 gramme de proteine de céréales destinée à l'alimentation animale, il y a 1.5 grammes de proteine animale destinée à l'alimentation humaine\n"
     ]
    }
   ],
   "source": [
    "print(\"pour 1 gramme de proteine de céréales destinée à l'alimentation animale, il y a\",round(df_dispo_alim_humaine['dispo_en_g_proteine'].sum()/df_dispo_alim_animale['dispo_en_g_proteine'].sum(),1),\"grammes de proteine animale destinée à l'alimentation humaine\")"
   ]
  },
  {
   "cell_type": "markdown",
   "metadata": {},
   "source": [
    "<B>Question : Combien de kg de céréales sont nécessaires pour produire 1kg de viande ?<B/>"
   ]
  },
  {
   "cell_type": "code",
   "execution_count": 67,
   "metadata": {},
   "outputs": [],
   "source": [
    "#Je crée un data frame ne contenant que la viande\n",
    "df_viande = (df_dispo_alim_humaine.loc[df_dispo_alim_humaine['produit'].str.contains('Viande')])"
   ]
  },
  {
   "cell_type": "code",
   "execution_count": 68,
   "metadata": {
    "scrolled": true
   },
   "outputs": [
    {
     "name": "stdout",
     "output_type": "stream",
     "text": [
      "2.7\n"
     ]
    }
   ],
   "source": [
    "print (round((df_dispo_alim_animale['dispo_en_kg'].sum()/df_viande['dispo_en_kg'].sum()),1))"
   ]
  },
  {
   "cell_type": "markdown",
   "metadata": {},
   "source": [
    "<B> Export des dataframe pour la base de donnée SQL <B/>"
   ]
  },
  {
   "cell_type": "code",
   "execution_count": 69,
   "metadata": {},
   "outputs": [
    {
     "ename": "FileNotFoundError",
     "evalue": "File b'FAOSTAT_population_SQL.csv' does not exist",
     "output_type": "error",
     "traceback": [
      "\u001b[0;31m---------------------------------------------------------------------------\u001b[0m",
      "\u001b[0;31mFileNotFoundError\u001b[0m                         Traceback (most recent call last)",
      "\u001b[0;32m<ipython-input-69-095f1633f179>\u001b[0m in \u001b[0;36m<module>\u001b[0;34m()\u001b[0m\n\u001b[1;32m      1\u001b[0m \u001b[0;31m# Je récupère un nouveau fichier depuis le site de la FAO\u001b[0m\u001b[0;34m\u001b[0m\u001b[0;34m\u001b[0m\u001b[0m\n\u001b[0;32m----> 2\u001b[0;31m \u001b[0mpopulation\u001b[0m \u001b[0;34m=\u001b[0m \u001b[0mpd\u001b[0m\u001b[0;34m.\u001b[0m\u001b[0mread_csv\u001b[0m\u001b[0;34m(\u001b[0m\u001b[0;34m\"FAOSTAT_population_SQL.csv\"\u001b[0m\u001b[0;34m)\u001b[0m\u001b[0;34m\u001b[0m\u001b[0m\n\u001b[0m\u001b[1;32m      3\u001b[0m \u001b[0mpopulation\u001b[0m\u001b[0;34m[\u001b[0m\u001b[0;34m'population'\u001b[0m\u001b[0;34m]\u001b[0m \u001b[0;34m=\u001b[0m \u001b[0mpopulation\u001b[0m\u001b[0;34m[\u001b[0m\u001b[0;34m'Valeur'\u001b[0m\u001b[0;34m]\u001b[0m\u001b[0;34m*\u001b[0m\u001b[0;36m1000\u001b[0m\u001b[0;34m\u001b[0m\u001b[0m\n\u001b[1;32m      4\u001b[0m \u001b[0mpopulation\u001b[0m \u001b[0;34m=\u001b[0m \u001b[0mpopulation\u001b[0m\u001b[0;34m[\u001b[0m\u001b[0;34m[\u001b[0m\u001b[0;34m'Pays'\u001b[0m\u001b[0;34m,\u001b[0m\u001b[0;34m'Code Pays'\u001b[0m\u001b[0;34m,\u001b[0m\u001b[0;34m'Année'\u001b[0m\u001b[0;34m,\u001b[0m\u001b[0;34m'population'\u001b[0m\u001b[0;34m]\u001b[0m\u001b[0;34m]\u001b[0m\u001b[0;34m\u001b[0m\u001b[0m\n\u001b[1;32m      5\u001b[0m \u001b[0mpopulation\u001b[0m\u001b[0;34m.\u001b[0m\u001b[0mcolumns\u001b[0m \u001b[0;34m=\u001b[0m \u001b[0;34m[\u001b[0m\u001b[0;34m'pays'\u001b[0m\u001b[0;34m,\u001b[0m\u001b[0;34m'code_pays'\u001b[0m\u001b[0;34m,\u001b[0m\u001b[0;34m'année'\u001b[0m\u001b[0;34m,\u001b[0m\u001b[0;34m'population'\u001b[0m\u001b[0;34m]\u001b[0m\u001b[0;34m\u001b[0m\u001b[0m\n",
      "\u001b[0;32m~/anaconda3/lib/python3.6/site-packages/pandas/io/parsers.py\u001b[0m in \u001b[0;36mparser_f\u001b[0;34m(filepath_or_buffer, sep, delimiter, header, names, index_col, usecols, squeeze, prefix, mangle_dupe_cols, dtype, engine, converters, true_values, false_values, skipinitialspace, skiprows, nrows, na_values, keep_default_na, na_filter, verbose, skip_blank_lines, parse_dates, infer_datetime_format, keep_date_col, date_parser, dayfirst, iterator, chunksize, compression, thousands, decimal, lineterminator, quotechar, quoting, escapechar, comment, encoding, dialect, tupleize_cols, error_bad_lines, warn_bad_lines, skipfooter, skip_footer, doublequote, delim_whitespace, as_recarray, compact_ints, use_unsigned, low_memory, buffer_lines, memory_map, float_precision)\u001b[0m\n\u001b[1;32m    707\u001b[0m                     skip_blank_lines=skip_blank_lines)\n\u001b[1;32m    708\u001b[0m \u001b[0;34m\u001b[0m\u001b[0m\n\u001b[0;32m--> 709\u001b[0;31m         \u001b[0;32mreturn\u001b[0m \u001b[0m_read\u001b[0m\u001b[0;34m(\u001b[0m\u001b[0mfilepath_or_buffer\u001b[0m\u001b[0;34m,\u001b[0m \u001b[0mkwds\u001b[0m\u001b[0;34m)\u001b[0m\u001b[0;34m\u001b[0m\u001b[0m\n\u001b[0m\u001b[1;32m    710\u001b[0m \u001b[0;34m\u001b[0m\u001b[0m\n\u001b[1;32m    711\u001b[0m     \u001b[0mparser_f\u001b[0m\u001b[0;34m.\u001b[0m\u001b[0m__name__\u001b[0m \u001b[0;34m=\u001b[0m \u001b[0mname\u001b[0m\u001b[0;34m\u001b[0m\u001b[0m\n",
      "\u001b[0;32m~/anaconda3/lib/python3.6/site-packages/pandas/io/parsers.py\u001b[0m in \u001b[0;36m_read\u001b[0;34m(filepath_or_buffer, kwds)\u001b[0m\n\u001b[1;32m    447\u001b[0m \u001b[0;34m\u001b[0m\u001b[0m\n\u001b[1;32m    448\u001b[0m     \u001b[0;31m# Create the parser.\u001b[0m\u001b[0;34m\u001b[0m\u001b[0;34m\u001b[0m\u001b[0m\n\u001b[0;32m--> 449\u001b[0;31m     \u001b[0mparser\u001b[0m \u001b[0;34m=\u001b[0m \u001b[0mTextFileReader\u001b[0m\u001b[0;34m(\u001b[0m\u001b[0mfilepath_or_buffer\u001b[0m\u001b[0;34m,\u001b[0m \u001b[0;34m**\u001b[0m\u001b[0mkwds\u001b[0m\u001b[0;34m)\u001b[0m\u001b[0;34m\u001b[0m\u001b[0m\n\u001b[0m\u001b[1;32m    450\u001b[0m \u001b[0;34m\u001b[0m\u001b[0m\n\u001b[1;32m    451\u001b[0m     \u001b[0;32mif\u001b[0m \u001b[0mchunksize\u001b[0m \u001b[0;32mor\u001b[0m \u001b[0miterator\u001b[0m\u001b[0;34m:\u001b[0m\u001b[0;34m\u001b[0m\u001b[0m\n",
      "\u001b[0;32m~/anaconda3/lib/python3.6/site-packages/pandas/io/parsers.py\u001b[0m in \u001b[0;36m__init__\u001b[0;34m(self, f, engine, **kwds)\u001b[0m\n\u001b[1;32m    816\u001b[0m             \u001b[0mself\u001b[0m\u001b[0;34m.\u001b[0m\u001b[0moptions\u001b[0m\u001b[0;34m[\u001b[0m\u001b[0;34m'has_index_names'\u001b[0m\u001b[0;34m]\u001b[0m \u001b[0;34m=\u001b[0m \u001b[0mkwds\u001b[0m\u001b[0;34m[\u001b[0m\u001b[0;34m'has_index_names'\u001b[0m\u001b[0;34m]\u001b[0m\u001b[0;34m\u001b[0m\u001b[0m\n\u001b[1;32m    817\u001b[0m \u001b[0;34m\u001b[0m\u001b[0m\n\u001b[0;32m--> 818\u001b[0;31m         \u001b[0mself\u001b[0m\u001b[0;34m.\u001b[0m\u001b[0m_make_engine\u001b[0m\u001b[0;34m(\u001b[0m\u001b[0mself\u001b[0m\u001b[0;34m.\u001b[0m\u001b[0mengine\u001b[0m\u001b[0;34m)\u001b[0m\u001b[0;34m\u001b[0m\u001b[0m\n\u001b[0m\u001b[1;32m    819\u001b[0m \u001b[0;34m\u001b[0m\u001b[0m\n\u001b[1;32m    820\u001b[0m     \u001b[0;32mdef\u001b[0m \u001b[0mclose\u001b[0m\u001b[0;34m(\u001b[0m\u001b[0mself\u001b[0m\u001b[0;34m)\u001b[0m\u001b[0;34m:\u001b[0m\u001b[0;34m\u001b[0m\u001b[0m\n",
      "\u001b[0;32m~/anaconda3/lib/python3.6/site-packages/pandas/io/parsers.py\u001b[0m in \u001b[0;36m_make_engine\u001b[0;34m(self, engine)\u001b[0m\n\u001b[1;32m   1047\u001b[0m     \u001b[0;32mdef\u001b[0m \u001b[0m_make_engine\u001b[0m\u001b[0;34m(\u001b[0m\u001b[0mself\u001b[0m\u001b[0;34m,\u001b[0m \u001b[0mengine\u001b[0m\u001b[0;34m=\u001b[0m\u001b[0;34m'c'\u001b[0m\u001b[0;34m)\u001b[0m\u001b[0;34m:\u001b[0m\u001b[0;34m\u001b[0m\u001b[0m\n\u001b[1;32m   1048\u001b[0m         \u001b[0;32mif\u001b[0m \u001b[0mengine\u001b[0m \u001b[0;34m==\u001b[0m \u001b[0;34m'c'\u001b[0m\u001b[0;34m:\u001b[0m\u001b[0;34m\u001b[0m\u001b[0m\n\u001b[0;32m-> 1049\u001b[0;31m             \u001b[0mself\u001b[0m\u001b[0;34m.\u001b[0m\u001b[0m_engine\u001b[0m \u001b[0;34m=\u001b[0m \u001b[0mCParserWrapper\u001b[0m\u001b[0;34m(\u001b[0m\u001b[0mself\u001b[0m\u001b[0;34m.\u001b[0m\u001b[0mf\u001b[0m\u001b[0;34m,\u001b[0m \u001b[0;34m**\u001b[0m\u001b[0mself\u001b[0m\u001b[0;34m.\u001b[0m\u001b[0moptions\u001b[0m\u001b[0;34m)\u001b[0m\u001b[0;34m\u001b[0m\u001b[0m\n\u001b[0m\u001b[1;32m   1050\u001b[0m         \u001b[0;32melse\u001b[0m\u001b[0;34m:\u001b[0m\u001b[0;34m\u001b[0m\u001b[0m\n\u001b[1;32m   1051\u001b[0m             \u001b[0;32mif\u001b[0m \u001b[0mengine\u001b[0m \u001b[0;34m==\u001b[0m \u001b[0;34m'python'\u001b[0m\u001b[0;34m:\u001b[0m\u001b[0;34m\u001b[0m\u001b[0m\n",
      "\u001b[0;32m~/anaconda3/lib/python3.6/site-packages/pandas/io/parsers.py\u001b[0m in \u001b[0;36m__init__\u001b[0;34m(self, src, **kwds)\u001b[0m\n\u001b[1;32m   1693\u001b[0m         \u001b[0mkwds\u001b[0m\u001b[0;34m[\u001b[0m\u001b[0;34m'allow_leading_cols'\u001b[0m\u001b[0;34m]\u001b[0m \u001b[0;34m=\u001b[0m \u001b[0mself\u001b[0m\u001b[0;34m.\u001b[0m\u001b[0mindex_col\u001b[0m \u001b[0;32mis\u001b[0m \u001b[0;32mnot\u001b[0m \u001b[0;32mFalse\u001b[0m\u001b[0;34m\u001b[0m\u001b[0m\n\u001b[1;32m   1694\u001b[0m \u001b[0;34m\u001b[0m\u001b[0m\n\u001b[0;32m-> 1695\u001b[0;31m         \u001b[0mself\u001b[0m\u001b[0;34m.\u001b[0m\u001b[0m_reader\u001b[0m \u001b[0;34m=\u001b[0m \u001b[0mparsers\u001b[0m\u001b[0;34m.\u001b[0m\u001b[0mTextReader\u001b[0m\u001b[0;34m(\u001b[0m\u001b[0msrc\u001b[0m\u001b[0;34m,\u001b[0m \u001b[0;34m**\u001b[0m\u001b[0mkwds\u001b[0m\u001b[0;34m)\u001b[0m\u001b[0;34m\u001b[0m\u001b[0m\n\u001b[0m\u001b[1;32m   1696\u001b[0m \u001b[0;34m\u001b[0m\u001b[0m\n\u001b[1;32m   1697\u001b[0m         \u001b[0;31m# XXX\u001b[0m\u001b[0;34m\u001b[0m\u001b[0;34m\u001b[0m\u001b[0m\n",
      "\u001b[0;32mpandas/_libs/parsers.pyx\u001b[0m in \u001b[0;36mpandas._libs.parsers.TextReader.__cinit__\u001b[0;34m()\u001b[0m\n",
      "\u001b[0;32mpandas/_libs/parsers.pyx\u001b[0m in \u001b[0;36mpandas._libs.parsers.TextReader._setup_parser_source\u001b[0;34m()\u001b[0m\n",
      "\u001b[0;31mFileNotFoundError\u001b[0m: File b'FAOSTAT_population_SQL.csv' does not exist"
     ]
    }
   ],
   "source": [
    "# Je récupère un nouveau fichier depuis le site de la FAO\n",
    "population = pd.read_csv(\"FAOSTAT_population_SQL.csv\")\n",
    "population['population'] = population['Valeur']*1000\n",
    "population = population[['Pays','Code Pays','Année','population']]\n",
    "population.columns = ['pays','code_pays','année','population']\n",
    "population.head()\n",
    "\n",
    "#La clé primaire sera le code pays et l'année"
   ]
  },
  {
   "cell_type": "code",
   "execution_count": null,
   "metadata": {},
   "outputs": [],
   "source": [
    "# Je récupère deux nouveaux fichiers depuis le site de la FAO (2 pour pouvoir séparer végéteaux et animaux)\n",
    "\n",
    "dispo_alim_vegetaux = pd.read_csv(\"FAOSTAT_dispo_alim_V_SQL.csv\")\n",
    "dispo_alim_animaux = pd.read_csv(\"FAOSTAT_dispo_alim_A_SQL.csv\")\n",
    "\n",
    "dispo_alim_vegetaux = dispo_alim_vegetaux.assign(groupe='vegetaux')\n",
    "dispo_alim_animaux = dispo_alim_animaux.assign(groupe='animaux')\n",
    "dispo_alim = pd.concat([dispo_alim_vegetaux, dispo_alim_animaux])\n",
    "\n",
    "#Je créé des dataframe pour avoir les colonnes voulue\n",
    "dispo_alim_t = dispo_alim[(dispo_alim['Code Élément'] == 5301)] # Disponibilité alimentaire\n",
    "dispo_alim_t = dispo_alim_t[['Pays','Code Pays','Année','Produit','Code Produit','Valeur','groupe']]\n",
    "dispo_alim_t['dispo_alim_tonnes'] = dispo_alim_t['Valeur']*1000\n",
    "dispo_alim_t = dispo_alim_t[['Pays','Code Pays','Année','Code Produit','Produit','dispo_alim_tonnes','groupe']]\n",
    "dispo_alim_t.columns = ['pays','code_pays','année','code_produit','produit','dispo_alim_tonnes','type_produit']\n",
    "\n",
    "dispo_alim_kcal = dispo_alim[(dispo_alim['Code Élément'] == 664)] # Disponibilité alim en Kcal/personne/jour\n",
    "dispo_alim_kcal = dispo_alim_kcal[['Pays','Code Pays','Année','Code Produit','Produit','Valeur','groupe']]\n",
    "dispo_alim_kcal.columns = ['pays','code_pays','année','code_produit','produit','dispo_alim_kcal_p_j','type_produit']\n",
    "\n",
    "dispo_alim_p = dispo_alim[(dispo_alim['Code Élément'] == 674)] # Disponibilité protéine en g/personne/jour\n",
    "dispo_alim_p = dispo_alim_p[['Pays','Code Pays','Année','Code Produit','Produit','Valeur','groupe']]\n",
    "dispo_alim_p.columns = ['pays','code_pays','année','code_produit','produit','dispo_prot','type_produit']\n",
    "\n",
    "dispo_alim_g = dispo_alim[(dispo_alim['Code Élément'] == 684)] # Disponibilité matière grasse en g/personne/jour\n",
    "dispo_alim_g = dispo_alim_g[['Pays','Code Pays','Année','Code Produit','Produit','Valeur','groupe']]\n",
    "dispo_alim_g.columns = ['pays','code_pays','année','code_produit','produit','dispo_mat_gr','type_produit']\n",
    "\n",
    "\n",
    "dispo_alim1 = pd.merge(dispo_alim_t, dispo_alim_kcal)\n",
    "dispo_alim2 = pd.merge(dispo_alim1, dispo_alim_p)\n",
    "dispo_alim = pd.merge(dispo_alim2, dispo_alim_g)\n",
    "dispo_alim = dispo_alim[['pays', 'code_pays', 'année', 'produit', 'code_produit', 'dispo_alim_tonnes', 'dispo_alim_kcal_p_j', 'dispo_prot', 'dispo_mat_gr','type_produit']]\n",
    "dispo_alim.sample(5)\n",
    "\n",
    "#La clé primaire sera le code pays, l'année et le code_produit"
   ]
  },
  {
   "cell_type": "code",
   "execution_count": null,
   "metadata": {},
   "outputs": [],
   "source": [
    "#Nouveau fichier depuis le site de la FAO\n",
    "equilibre_prod_brut = pd.read_csv(\"FAOSTAT_equilibre_SQL.csv\")\n",
    "\n",
    "dispo_int = equilibre_prod_brut[(equilibre_prod_brut['Code Élément'] == 5301)] # Disponibilité intérieure\n",
    "dispo_int = dispo_int[['Pays','Code Pays','Année','Produit','Code Produit','Valeur']]\n",
    "dispo_int.columns = ['pays','code_pays','année','produit','code_produit','dispo_int']\n",
    "\n",
    "alim_ani = equilibre_prod_brut[(equilibre_prod_brut['Code Élément'] == 5521)] # Aliments pour animaux\n",
    "alim_ani = alim_ani[['Pays','Code Pays','Année','Produit','Code Produit','Valeur']]\n",
    "alim_ani.columns = ['pays','code_pays','année','produit','code_produit','alim_ani']\n",
    "\n",
    "alim_semences = equilibre_prod_brut[(equilibre_prod_brut['Code Élément'] == 5527)] # Semences\n",
    "alim_semences = alim_semences[['Pays','Code Pays','Année','Produit','Code Produit','Valeur']]\n",
    "alim_semences.columns = ['pays','code_pays','année','produit','code_produit','semences']\n",
    "\n",
    "alim_pertes = equilibre_prod_brut[(equilibre_prod_brut['Code Élément'] == 5527)] # Pertes\n",
    "alim_pertes = alim_pertes[['Pays','Code Pays','Année','Produit','Code Produit','Valeur']]\n",
    "alim_pertes.columns = ['pays','code_pays','année','produit','code_produit','pertes']\n",
    "\n",
    "alim_transforme = equilibre_prod_brut[(equilibre_prod_brut['Code Élément'] == 5131)] # Transformés\n",
    "alim_transforme = alim_transforme[['Pays','Code Pays','Année','Produit','Code Produit','Valeur']]\n",
    "alim_transforme.columns = ['pays','code_pays','année','produit','code_produit','transfo']\n",
    "\n",
    "alim_nourriture = equilibre_prod_brut[(equilibre_prod_brut['Code Élément'] == 5142)] # nourriture\n",
    "alim_nourriture = alim_nourriture[['Pays','Code Pays','Année','Produit','Code Produit','Valeur']]\n",
    "alim_nourriture.columns = ['pays','code_pays','année','produit','code_produit','nourriture']\n",
    "\n",
    "alim_autre = equilibre_prod_brut[(equilibre_prod_brut['Code Élément'] == 5154)] # Autres utilisations\n",
    "alim_autre  = alim_autre [['Pays','Code Pays','Année','Produit','Code Produit','Valeur']]\n",
    "alim_autre.columns = ['pays','code_pays','année','produit','code_produit','autres_utilisations']\n",
    "\n",
    "#Je fais une jointure gauche car je veux garder les produits \"viandes\" qui seraient éliminés avec les semences\n",
    "# alim_ani, etc...\n",
    "\n",
    "equilibre_prod1 = pd.merge(dispo_int,alim_ani, how = 'left')\n",
    "equilibre_prod2 = pd.merge(equilibre_prod1,alim_semences, how='left')\n",
    "equilibre_prod3 = pd.merge(equilibre_prod2,alim_pertes, how='left')\n",
    "equilibre_prod4 = pd.merge(equilibre_prod3,alim_transforme, how='left')\n",
    "equilibre_prod5 = pd.merge(equilibre_prod4,alim_nourriture, how='left')\n",
    "equilibre_prod = pd.merge(equilibre_prod5,alim_autre, how='left')\n",
    "\n",
    "# Je remplace les NaN par 0\n",
    "equilibre_prod.fillna(0, inplace = True)\n",
    "\n",
    "#Je vérifie\n",
    "equilibre_prod.loc[equilibre_prod['produit'].str.contains('Viande')]\n",
    "\n",
    "#La clé primaire sera le code_pays, l'année et le code_produit"
   ]
  },
  {
   "cell_type": "code",
   "execution_count": null,
   "metadata": {},
   "outputs": [],
   "source": [
    "# Je récupère un nouveau fichier depuis le site de la FAO\n",
    "sous_nutrition = pd.read_csv(\"FAOSTAT_sous_alim_SQL.csv\")\n",
    "sous_nutrition = sous_nutrition[['Zone','Code zone','Année','Valeur']]\n",
    "sous_nutrition.columns = ['pays','code_pays','année','nb_personnes']\n",
    "\n",
    "#Je remplace la notation des années pour uniformiser tous les DataFrames\n",
    "sous_nutrition.replace({'2009-2011': 2010, '2010-2012': 2011, '2011-2013': 2012, '2012-2014': 2013,\\\n",
    "                       '2013-2015': 2014, '2014-2016': 2015, '2015-2017': 2016}, inplace=True)\n",
    "\n",
    "sous_nutrition.head()\n",
    "\n",
    "#La clé primaire sera le code_pays et l'année"
   ]
  },
  {
   "cell_type": "code",
   "execution_count": null,
   "metadata": {},
   "outputs": [],
   "source": [
    "population.to_csv(\"population.csv\", index = False)\n",
    "dispo_alim.to_csv(\"dispo_alim.csv\", index = False)\n",
    "equilibre_prod.to_csv(\"equilibre_prod.csv\", index = False)\n",
    "sous_nutrition.to_csv(\"sous_nutrition.csv\", index = False)"
   ]
  },
  {
   "cell_type": "code",
   "execution_count": null,
   "metadata": {},
   "outputs": [],
   "source": []
  }
 ],
 "metadata": {
  "kernelspec": {
   "display_name": "Python 3",
   "language": "python",
   "name": "python3"
  },
  "language_info": {
   "codemirror_mode": {
    "name": "ipython",
    "version": 3
   },
   "file_extension": ".py",
   "mimetype": "text/x-python",
   "name": "python",
   "nbconvert_exporter": "python",
   "pygments_lexer": "ipython3",
   "version": "3.6.4"
  }
 },
 "nbformat": 4,
 "nbformat_minor": 2
}
